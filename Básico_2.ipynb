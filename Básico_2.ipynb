{
  "nbformat": 4,
  "nbformat_minor": 0,
  "metadata": {
    "colab": {
      "provenance": [],
      "authorship_tag": "ABX9TyP65lutWHnJXR6I4ytgSZvJ",
      "include_colab_link": true
    },
    "kernelspec": {
      "name": "python3",
      "display_name": "Python 3"
    },
    "language_info": {
      "name": "python"
    }
  },
  "cells": [
    {
      "cell_type": "markdown",
      "metadata": {
        "id": "view-in-github",
        "colab_type": "text"
      },
      "source": [
        "<a href=\"https://colab.research.google.com/github/olimorais/Python-B-sico/blob/main/B%C3%A1sico_2.ipynb\" target=\"_parent\"><img src=\"https://colab.research.google.com/assets/colab-badge.svg\" alt=\"Open In Colab\"/></a>"
      ]
    },
    {
      "cell_type": "markdown",
      "source": [
        "# Aula 2 - Operadores Lógicos, Estruturas Condicionais e Loops\n",
        "\n",
        "Neste arquivo trataremos os seguintes tópicos em python:\n",
        "\n",
        "*   Operadores Lógicos.\n",
        "*   Operadores Lógicos de Conjunção\n",
        "*   Estruturas Condicionais.\n",
        "*   Laços de Repetição (While).\n",
        "---\n",
        "Problema gerador: Como contar até 10?\n",
        "\n",
        "Isto é, exibir sequencialmente de 1 a 10...\n",
        "\n",
        "\n",
        "\n",
        "\n"
      ],
      "metadata": {
        "id": "fxZfLeIewQPl"
      }
    },
    {
      "cell_type": "markdown",
      "source": [
        "# 1) Operadores Lógicos\n",
        "\n",
        "Em muitos problemas de programação, há a necessidade de se fazer **comparações** entre variáveis.\n",
        "\n",
        "Por exemplo: chegar se dois números são iguais ou não, qual número é maior que o outro.\n",
        "\n",
        "Para fazer essas comparações, utilizamos os **operadores lógicos**. Em python, temos 6 operadores:\n",
        "\n",
        "\n",
        "*   Maior que: >\n",
        "*   Maior ou igual: >=\n",
        "*   Menor que: <\n",
        "*   Menor ou igual: <=\n",
        "*   Igual: ==\n",
        "*   Diferente: !=\n",
        "\n",
        "A reposta dessas comparações são do tipo booleanas, ou seja, são respostas que retornam **True or False!**\n",
        "\n",
        "Dica: sempre leia as comparações como uma pergunta!\n",
        "\n",
        "Ex: \"numero < 100 \" -> leia-se o valor na variável \"numero\" é menor que 100?\n",
        "\n",
        "\n",
        "\n"
      ],
      "metadata": {
        "id": "yI7URun71dR5"
      }
    },
    {
      "cell_type": "code",
      "source": [
        "numero = 80\n",
        "numero < 100"
      ],
      "metadata": {
        "colab": {
          "base_uri": "https://localhost:8080/"
        },
        "id": "0CGaPAvB5S8H",
        "outputId": "76e68e3a-2419-4fe3-95c0-11c34bc49873"
      },
      "execution_count": null,
      "outputs": [
        {
          "output_type": "execute_result",
          "data": {
            "text/plain": [
              "True"
            ]
          },
          "metadata": {},
          "execution_count": 1
        }
      ]
    },
    {
      "cell_type": "markdown",
      "source": [
        "A comparação também pode ser feita entre duas variáveis! Ou seja, sempre comparamos o valor da esquerda com o valor da direita. E essa comparação é feita pelos operadores lógicos."
      ],
      "metadata": {
        "id": "TMEG2oWV5r_M"
      }
    },
    {
      "cell_type": "code",
      "source": [
        "num1 = 30\n",
        "num2 = 50\n",
        "num1 != num2"
      ],
      "metadata": {
        "colab": {
          "base_uri": "https://localhost:8080/"
        },
        "id": "syz1y-_G50Xc",
        "outputId": "355f5ba7-fd2f-43e1-9a7b-ee70671b363b"
      },
      "execution_count": null,
      "outputs": [
        {
          "output_type": "execute_result",
          "data": {
            "text/plain": [
              "True"
            ]
          },
          "metadata": {},
          "execution_count": 4
        }
      ]
    },
    {
      "cell_type": "markdown",
      "source": [
        "Ao comparar dois números que são iguais mas são de tipos diferentes, o que acontece?\n",
        "\n",
        "Será que o compilador trata, por exemplo, o número 10 (tipo int) e o número 10.0 (tipo float) como números diferentes ou iguais?"
      ],
      "metadata": {
        "id": "ofuSytH67JSS"
      }
    },
    {
      "cell_type": "code",
      "source": [
        "10.0 == 10\n",
        "# Note que, nesse caso, o python trata esses números como iguais mesmo eles sendo\n",
        "# de tipos diferentes!"
      ],
      "metadata": {
        "colab": {
          "base_uri": "https://localhost:8080/"
        },
        "id": "RzIZWMR77ir6",
        "outputId": "1c662a1c-1995-406d-d9cb-611f3fb22a5d"
      },
      "execution_count": null,
      "outputs": [
        {
          "output_type": "execute_result",
          "data": {
            "text/plain": [
              "True"
            ]
          },
          "metadata": {},
          "execution_count": 5
        }
      ]
    },
    {
      "cell_type": "markdown",
      "source": [
        "Podemos também comparar strings!\n",
        "\n",
        "Devemos nos perguntar o que queremos comparar quando temos variáveis do tipo str. Será que existe relações ordinais entre strings?\n",
        "\n"
      ],
      "metadata": {
        "id": "RCnTZj6o6p-m"
      }
    },
    {
      "cell_type": "code",
      "source": [
        "s1 = 'Ana'\n",
        "s2 = 'Ada'"
      ],
      "metadata": {
        "id": "Jk862rG_6s6e"
      },
      "execution_count": null,
      "outputs": []
    },
    {
      "cell_type": "code",
      "source": [
        "s1 == s2"
      ],
      "metadata": {
        "colab": {
          "base_uri": "https://localhost:8080/"
        },
        "id": "U58YJHi18Qks",
        "outputId": "b7048cd4-d1dd-47e7-bbfc-e792e96a4ea3"
      },
      "execution_count": null,
      "outputs": [
        {
          "output_type": "execute_result",
          "data": {
            "text/plain": [
              "False"
            ]
          },
          "metadata": {},
          "execution_count": 7
        }
      ]
    },
    {
      "cell_type": "markdown",
      "source": [
        "O legal é que a comparação entre strings é feita de caracter a caracter. Note isso no exemplo abaixo. O assento em \"André\" faz total diferença na hora de se comparar. Outro exemplo, é a capitalização, ou seja, se a palavra é escrita com a primeira letra sendo maiúscula ou não. Se eu comparar \"Andre\" com \"andre\", o compilador entende como strings diferentes!"
      ],
      "metadata": {
        "id": "UNQT2eKK8azs"
      }
    },
    {
      "cell_type": "code",
      "source": [
        "s3 = 'André'\n",
        "s4 = 'Andre'\n",
        "s3 == s4"
      ],
      "metadata": {
        "colab": {
          "base_uri": "https://localhost:8080/"
        },
        "id": "lSPoBwzu8h6A",
        "outputId": "8241d982-d7b9-43af-c9b8-e0665306fbdf"
      },
      "execution_count": null,
      "outputs": [
        {
          "output_type": "execute_result",
          "data": {
            "text/plain": [
              "False"
            ]
          },
          "metadata": {},
          "execution_count": 10
        }
      ]
    },
    {
      "cell_type": "markdown",
      "source": [
        "Os operadores >, >=, < e <= , atuam comparando em **ordem lexográfica** quando aplicados a strings!\n",
        "\n",
        "A ordem lexográfica é definida a partir da [tabela ASCII](https://https://web.fe.up.pt/~ee96100/projecto/Tabela%20ascii.htm).\n",
        "\n",
        "Como assim? Sabemos que o python compara letra por letra de cada string e os valores, ou seja, a ordem das letras e caracteres são dados pela tabela ASCII.\n",
        "Vamos entender isso melhor com um exemplo abaixo."
      ],
      "metadata": {
        "id": "YdOpxH5H9iw2"
      }
    },
    {
      "cell_type": "code",
      "source": [
        "palavra1 = 'abacate'\n",
        "palavra2 = 'abacaxi'\n",
        "\n",
        "palavra1 > palavra2\n",
        "\n",
        "# note que a diferença está na última sílaba\n",
        "# o termo a-ba-ca é o mesmo em ambas palavras\n",
        "# o que muda é te e xi"
      ],
      "metadata": {
        "colab": {
          "base_uri": "https://localhost:8080/"
        },
        "id": "3oe4iEM-_deR",
        "outputId": "b4383231-fea8-4cce-bce9-9ebd44502c02"
      },
      "execution_count": null,
      "outputs": [
        {
          "output_type": "execute_result",
          "data": {
            "text/plain": [
              "False"
            ]
          },
          "metadata": {},
          "execution_count": 12
        }
      ]
    },
    {
      "cell_type": "markdown",
      "source": [
        "Pela ordem lexográfica o \"t\" em \"abacate\" é considerado como  menor que o \"x\" em \"abacaxi\". Logo, \"abacate\" é menor que \"abacaxi\".\n",
        "\n",
        "Então a tabela ASCII códifica letras em números, e assim, fica possível fazer comparações de maior ou menor com strings.\n",
        "\n",
        "No python, existe uma função **ord()** que retorna o valor numérico de uma letra. Assim, não é preciso recorrer a tabela ASCII sempre."
      ],
      "metadata": {
        "id": "7nCuGrtFAbfF"
      }
    },
    {
      "cell_type": "code",
      "source": [
        "aux1 = ord('t')\n",
        "aux2 = ord('x')\n",
        "print(aux1, aux2)\n",
        "# note que 'x' é maior que 't'"
      ],
      "metadata": {
        "colab": {
          "base_uri": "https://localhost:8080/"
        },
        "id": "DZIlfqtmBwsE",
        "outputId": "1498f7da-9aa5-4fcc-9845-79a2b080093f"
      },
      "execution_count": null,
      "outputs": [
        {
          "output_type": "stream",
          "name": "stdout",
          "text": [
            "116 120\n"
          ]
        }
      ]
    },
    {
      "cell_type": "markdown",
      "source": [
        "Não é possível comparar ordinalmente (>=, <=, etc) variáveis do tipo números (int ou float) com variáveis do tipo string (str)."
      ],
      "metadata": {
        "id": "bokPIAFoAvyR"
      }
    },
    {
      "cell_type": "markdown",
      "source": [
        "# 2) Operadores Lógicos de Conjunção\n",
        "\n",
        "Os **operadores lógicos de conjunção** são usados para fazer uma **combinação** entre as comparações.\n",
        "\n",
        "Os operados de conjunção são: **and** e **or** , e eles seguem as seguintes regras:\n",
        "\n",
        "\n",
        "*   **and** só é **True** se **ambas comparações forem verdadeiras**.\n",
        "        Ex: Ambas informações tem que ser verdadeiras, se uma for falsa já não entra.\n",
        "\n",
        "*   **or** só é **True** se pelo menos **uma das comparações for verdadeira.**\n",
        "        Ex: Aqui, só vou ter retorno False quando as duas comparações forem falsas.\n",
        "\n",
        "\n",
        "A seguir segue alguns exemplos de como usar essa combinação de comparações."
      ],
      "metadata": {
        "id": "Q4zrgquKlRid"
      }
    },
    {
      "cell_type": "code",
      "source": [
        "# Comparacao com AND\n",
        "# note que: a primeira expressão vai dar TRUE pois 2 é menor que 5\n",
        "#ja a segunda expressão vai ser FALSE pois 4 não é igual a 5\n",
        "# logo: o retorna dessa comparação será FALSE\n",
        "(2 < 5) and (4 == 5)"
      ],
      "metadata": {
        "colab": {
          "base_uri": "https://localhost:8080/"
        },
        "id": "Qx3t4oeOnyA4",
        "outputId": "d909a983-6d2b-42b4-fab3-e8b20208ce36"
      },
      "execution_count": null,
      "outputs": [
        {
          "output_type": "execute_result",
          "data": {
            "text/plain": [
              "False"
            ]
          },
          "metadata": {},
          "execution_count": 1
        }
      ]
    },
    {
      "cell_type": "code",
      "source": [
        "# Comparação com AND\n",
        "# Agora as duas expressões comparadas são TRUE\n",
        "# Logo: retorno dessa comparação é TRUE\n",
        "(2 < 5) and (4!=5)"
      ],
      "metadata": {
        "colab": {
          "base_uri": "https://localhost:8080/"
        },
        "id": "LhKmryCVodwO",
        "outputId": "75faec31-a195-4a6e-88eb-9eba3bd32d2a"
      },
      "execution_count": null,
      "outputs": [
        {
          "output_type": "execute_result",
          "data": {
            "text/plain": [
              "True"
            ]
          },
          "metadata": {},
          "execution_count": 2
        }
      ]
    },
    {
      "cell_type": "code",
      "source": [
        "# Comparacao com OR\n",
        "# aqui basta somente um expressão verdadeira para retorna TRUE\n",
        "(2 < 5) or (4 == 5)"
      ],
      "metadata": {
        "colab": {
          "base_uri": "https://localhost:8080/"
        },
        "id": "1W34rwEzotTs",
        "outputId": "b151b216-57e3-4500-aaf4-9aabf2bd9406"
      },
      "execution_count": null,
      "outputs": [
        {
          "output_type": "execute_result",
          "data": {
            "text/plain": [
              "True"
            ]
          },
          "metadata": {},
          "execution_count": 3
        }
      ]
    },
    {
      "cell_type": "code",
      "source": [
        "#Comparacao com OR\n",
        "# aqui as duas expressões são falsas e isso retorna FALSE\n",
        "(2 > 5) or (4 == 5)"
      ],
      "metadata": {
        "colab": {
          "base_uri": "https://localhost:8080/"
        },
        "id": "VMXOuW9ootFN",
        "outputId": "0ddc8e19-87eb-4f95-cfe4-d57d8544657d"
      },
      "execution_count": null,
      "outputs": [
        {
          "output_type": "execute_result",
          "data": {
            "text/plain": [
              "False"
            ]
          },
          "metadata": {},
          "execution_count": 4
        }
      ]
    },
    {
      "cell_type": "markdown",
      "source": [
        "Se tiver mais de duas comparações para fazer a conjunção, é necessário usar parênteses. Pois as comparações são feitas na ordem em que aparecem, igual nas expressões matemáticas. Logo, o parênteses da uma ordem de prioridade no \"cálculo\"."
      ],
      "metadata": {
        "id": "l9Wyg2M1pmIP"
      }
    },
    {
      "cell_type": "markdown",
      "source": [
        "# 3) Estruturas Condicionais\n",
        "\n",
        "O principal uso de operadores lógicos e conjunções são em **estruturas condicionais.**\n",
        "\n",
        "Esse tipo de estrutura é utilizada para controlar o fluxo de execução do nosso programa. Ou seja, dependendo da condição (True ou False) teremos a execução ou não, de determinadas parte do algoritmo.\n",
        "\n",
        "Nessas estruturas usamos de **operadores condicionais**, que são: **if, elif e else.**\n",
        "\n",
        "\n",
        "*   **if** : Se uma condição for verdadeira, faça determinada operação.\n",
        "*  ** elif**: Se a condição acima for falsa, avalie a próxima condição, e se for verdadeira, faça a operação.\n",
        "*   **else**: Se nenhuma das condições acima for verdadeira, faça outra coisa.\n",
        "\n",
        "\n",
        "    if (condição é True):\n",
        "        operação 1\n",
        "    elif(condição é True):\n",
        "        operação 2\n",
        "    else:\n",
        "        operação 3       \n",
        "\n",
        "\n",
        "Dicas:\n",
        "\n",
        "*   Se a condição no **if** ou no **elif** for verdadeira, todo resto é ignorada.\n",
        "*   Por isso, as condições do if e os diferentes elif sempre são **excludentes**!\n",
        "\n",
        "\n",
        "\n"
      ],
      "metadata": {
        "id": "yb4YOvEnqcjK"
      }
    },
    {
      "cell_type": "markdown",
      "source": [
        "**Exemplo** :   Numa escola  temos os seguintes critérios para um aluno ser aprovado:\n",
        "\n",
        "*   Se a média for maior ou igual a 6, o aluno é aprovado.\n",
        "*   Caso contrário, o aluno reprova.\n",
        "\n",
        "O aluno deve fazer 3 provas e a média deve ser calculada por essas notas.\n",
        "\n",
        "Abaixo temos o programa que calcula se um aluno foi aprovado ou não!\n",
        "\n"
      ],
      "metadata": {
        "id": "5QufRi9PuK8L"
      }
    },
    {
      "cell_type": "code",
      "source": [
        "# inserção das notas das provas:\n",
        "p1 = float(input('Digite a nota da prova 1:'))\n",
        "p2 = float(input('Digite a nota da prova 2:'))\n",
        "p3 = float(input('Digite a nota da prova 3:'))\n",
        "\n",
        "# calculo da media\n",
        "media = (p1+p2+p3)/3\n",
        "\n",
        "if(media >= 6):\n",
        "  print('Parabéns! Você foi aprovado!')\n",
        "else:\n",
        "  print('Você não foi aprovado!')"
      ],
      "metadata": {
        "colab": {
          "base_uri": "https://localhost:8080/"
        },
        "id": "cjpFB9AgvBEv",
        "outputId": "57856a8d-39a9-45bb-f7c5-6a6fee8c2b8f"
      },
      "execution_count": null,
      "outputs": [
        {
          "output_type": "stream",
          "name": "stdout",
          "text": [
            "Digite a nota da prova 1:3.2\n",
            "Digite a nota da prova 2:6.8\n",
            "Digite a nota da prova 3:2.1\n",
            "Você não foi aprovado!\n"
          ]
        }
      ]
    },
    {
      "cell_type": "markdown",
      "source": [
        "**Exemplo**: Imagine que uma escola tenho dois critérios de aprovação, a média da nota maior ou igual a 6 e sua frequência maior ou igual a 75%.\n",
        "\n",
        "Vamos resolver esse novo problema!"
      ],
      "metadata": {
        "id": "7006akj7v753"
      }
    },
    {
      "cell_type": "code",
      "source": [
        "# insercao das notas:\n",
        "\n",
        "n1 = float(input('Digite a nota da prova 1:'))\n",
        "n2 = float(input('Digite a nota da prova 2:'))\n",
        "n3 = float(input('Digite a nota da prova 3:'))\n",
        "\n",
        "# presenca:\n",
        "\n",
        "presenca = int(input('Digite a presença do aluno em porcentagem:'))\n",
        "\n",
        "# calculo da media\n",
        "media = (n1+n2+n3)/3\n",
        "\n",
        "if(media>=6 and presenca>=75):\n",
        "  print('Aprovado!')\n",
        "else:\n",
        "  print('Reprovado!')"
      ],
      "metadata": {
        "colab": {
          "base_uri": "https://localhost:8080/"
        },
        "id": "rAQ2LgqA264E",
        "outputId": "4989cbd7-4882-40ab-f7ff-e5b55535e06f"
      },
      "execution_count": null,
      "outputs": [
        {
          "output_type": "stream",
          "name": "stdout",
          "text": [
            "Digite a nota da prova 1:7.8\n",
            "Digite a nota da prova 2:9\n",
            "Digite a nota da prova 3:5.6\n",
            "Digite a presença do aluno em porcentagem:80\n",
            "Aprovado!\n"
          ]
        }
      ]
    },
    {
      "cell_type": "markdown",
      "source": [
        "# 3) Laços de Repetição - while\n",
        "\n",
        "Um ponto importantíssimo da programação é automatizar tarefas ou funções repetitivas. Mas para isso ser viável é necessário ter uma **estrutura de repetição.**\n",
        "\n",
        "Imagine que você deseja escrever um programa que print \"Olá, mundo!\" 5 vezes na tela. Como devemos fazer isso?\n",
        "\n",
        "     print('Olá, mundo!')\n",
        "     print('Olá, mundo!')\n",
        "     print('Olá, mundo!')\n",
        "     print('Olá, mundo!')\n",
        "     print('Olá, mundo!')\n",
        "\n",
        "Podemos fazer como o exemplo acima, escrever 5 vezes o comando print(). Mas isso não é uma  solução elegante. E se quisermos fazer isso umas 100 vezes? Já vira uma solução impraticável.\n",
        "\n",
        "Portanto temos que usar as estruturas de repetição para resolver esse problema.\n",
        "\n",
        "Os laços de repetição são estruturas que permitem a repetição do código quantas vezes for necessário.\n",
        "\n",
        "A primeira estrutura de repetição que veremos será o **while**. Ele tem a seguinte estruturação\n",
        "\n",
        "    while(condição é True):\n",
        "      operação_repetida\n",
        "\n",
        "Ou seja, o que está no bloco do **while** é **repetido enquanto a condição for verdadeira!**\n",
        "\n",
        "Mas cuidado, a estrutura do while pode levar a **loops infinitos!** Para que loops infinitos  não acorram, temos que **atualizar a condição em cada iteração do laço!**  Isto é, temos que atualizar a variável que contabiliza as repetições no loop."
      ],
      "metadata": {
        "id": "HzVAqPUf6qKu"
      }
    },
    {
      "cell_type": "code",
      "source": [
        "# vamos usar uma variavel contadora\n",
        "\n",
        "cont = 0 # inicialização da variavel\n",
        "\n",
        "while(cont < 5):\n",
        "  print('Olá, mundo!')\n",
        "  cont = cont + 1"
      ],
      "metadata": {
        "colab": {
          "base_uri": "https://localhost:8080/"
        },
        "id": "OCmvotMk96c1",
        "outputId": "29e1ee98-babd-404a-b0af-404a0b6ccd55"
      },
      "execution_count": null,
      "outputs": [
        {
          "output_type": "stream",
          "name": "stdout",
          "text": [
            "Olá, mundo!\n",
            "Olá, mundo!\n",
            "Olá, mundo!\n",
            "Olá, mundo!\n",
            "Olá, mundo!\n"
          ]
        }
      ]
    },
    {
      "cell_type": "markdown",
      "source": [
        "Note, que criamos uma solução muito mais elegante e que pode ser escalonada para repetições maiores, como repetir isso por 100 vezes.\n",
        "\n",
        "Assim, o que fazemos é **definir a condição do while em termos de uma variável que tenha seu valor atualizado!**\n",
        "\n"
      ],
      "metadata": {
        "id": "LMpNF7Nr-kU5"
      }
    }
  ]
}