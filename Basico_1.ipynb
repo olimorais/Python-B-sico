{
  "nbformat": 4,
  "nbformat_minor": 0,
  "metadata": {
    "colab": {
      "provenance": [],
      "toc_visible": true,
      "authorship_tag": "ABX9TyNQN138aniHVLfvO4n2y8YD",
      "include_colab_link": true
    },
    "kernelspec": {
      "name": "python3",
      "display_name": "Python 3"
    },
    "language_info": {
      "name": "python"
    }
  },
  "cells": [
    {
      "cell_type": "markdown",
      "metadata": {
        "id": "view-in-github",
        "colab_type": "text"
      },
      "source": [
        "<a href=\"https://colab.research.google.com/github/olimorais/Python-B-sico/blob/main/Basico_1.ipynb\" target=\"_parent\"><img src=\"https://colab.research.google.com/assets/colab-badge.svg\" alt=\"Open In Colab\"/></a>"
      ]
    },
    {
      "cell_type": "markdown",
      "source": [
        "# Aula 1 - Tipos de dados, input/output e operadores matemáticos\n",
        "\n",
        "Nesta aula, abordaremos os seguintes tópicos em python:\n",
        "\n",
        "1.   Tipos de variáveis;\n",
        "2.   Comentários;\n",
        "3.   Saída de dados (output);\n",
        "4.   Entrada de dados (input);\n",
        "5.   Operadores matemáticos.\n",
        "---\n",
        "\n",
        "Problema gerador: como construir uma calculadora em python?\n",
        "\n",
        "\n",
        "\n",
        "\n"
      ],
      "metadata": {
        "id": "uqNiAf9RxTrG"
      }
    },
    {
      "cell_type": "markdown",
      "source": [
        "# 1) Tipos de Variáveis\n",
        "\n",
        "Em python tem-se 4 tipos básicos de dados:\n",
        "\n",
        "  ▪ Tipo **inteiros (int)** , são números inteiros sem casa  \n",
        "decimal. Os número negativos também são do tipo int.\n",
        "\n",
        "Exemplo: idade de uma pessoas, número de pessoas, etc."
      ],
      "metadata": {
        "id": "LLsx9OTC2GVA"
      }
    },
    {
      "cell_type": "code",
      "execution_count": null,
      "metadata": {
        "id": "wR5jGtQdxNZd"
      },
      "outputs": [],
      "source": [
        "numero_de_filhos = 3"
      ]
    },
    {
      "cell_type": "markdown",
      "source": [
        " Uma dica, se você quiser saber o tipo de dado que contém em uma variável, basta usar o comando, \"type(numero_de_filhos)\"."
      ],
      "metadata": {
        "id": "xZ_I-x9P3hPs"
      }
    },
    {
      "cell_type": "code",
      "source": [
        "type(numero_de_filhos)"
      ],
      "metadata": {
        "colab": {
          "base_uri": "https://localhost:8080/"
        },
        "id": "bdCVk8I_31j4",
        "outputId": "d489cb10-566e-4923-b574-d873d9987f47"
      },
      "execution_count": null,
      "outputs": [
        {
          "output_type": "execute_result",
          "data": {
            "text/plain": [
              "int"
            ]
          },
          "metadata": {},
          "execution_count": 2
        }
      ]
    },
    {
      "cell_type": "markdown",
      "source": [
        "  ▪ Tipo **float**, são números com casas decimais. E os números decimais são separados por ponto (.) não vírgula. E o tipo float também aceita números negativos.\n",
        "\n",
        "Exemplos: 3.14 , -5.78, 10.0, etc."
      ],
      "metadata": {
        "id": "CfGIMa3B35-S"
      }
    },
    {
      "cell_type": "code",
      "source": [
        "altura = 1.60\n",
        "x1 = 3.14\n",
        "type(altura)"
      ],
      "metadata": {
        "colab": {
          "base_uri": "https://localhost:8080/"
        },
        "id": "EXCFCNkw4xQL",
        "outputId": "c2ccdc94-f789-4726-9f4a-d08afaacdda0"
      },
      "execution_count": null,
      "outputs": [
        {
          "output_type": "execute_result",
          "data": {
            "text/plain": [
              "float"
            ]
          },
          "metadata": {},
          "execution_count": 4
        }
      ]
    },
    {
      "cell_type": "markdown",
      "source": [
        "  ▪ Tipo **string (str)** , são dados do tipo texto e esses dados devem ser indicados entre aspas simples ('texto') ou entre aspas duplas (\"texto\").\n",
        "\n",
        "Exemplo: nomes, endereços, olá mundo, etc."
      ],
      "metadata": {
        "id": "0Xpat5zD5EZW"
      }
    },
    {
      "cell_type": "code",
      "source": [
        "aux = 'Olá, mundo!'\n",
        "nome = \"Ana\"\n",
        "type(nome)"
      ],
      "metadata": {
        "colab": {
          "base_uri": "https://localhost:8080/"
        },
        "id": "PMVpfv3a5oVb",
        "outputId": "6e6976df-e3eb-4445-918d-8264c1e10a27"
      },
      "execution_count": null,
      "outputs": [
        {
          "output_type": "execute_result",
          "data": {
            "text/plain": [
              "str"
            ]
          },
          "metadata": {},
          "execution_count": 6
        }
      ]
    },
    {
      "cell_type": "markdown",
      "source": [
        "  ▪ Tipo **booleano (bool)**, são dados do tipo **Verdadeiro (True) ou Falso (False)**. São valores lógicos binários, 1 e 0. Esses tipos de dados são importantes em estruturas condicionais e em operações lógicas.  "
      ],
      "metadata": {
        "id": "4RsoPXFp53_U"
      }
    },
    {
      "cell_type": "code",
      "source": [
        "type(True)"
      ],
      "metadata": {
        "colab": {
          "base_uri": "https://localhost:8080/"
        },
        "id": "NI8yI_6Q8O-M",
        "outputId": "9195d6e9-f011-426a-ef9e-9a8e02282e87"
      },
      "execution_count": null,
      "outputs": [
        {
          "output_type": "execute_result",
          "data": {
            "text/plain": [
              "bool"
            ]
          },
          "metadata": {},
          "execution_count": 7
        }
      ]
    },
    {
      "cell_type": "markdown",
      "source": [
        "# 2) Comentários\n",
        "\n",
        "Os comentários são usados para explicar trechos de códigos, também pode ser usado para omitir alguma parte do algoritmo. O compilador do python não executa os trechos comentados. Então para fazer um comentário bastar usar # antes do algoritmo."
      ],
      "metadata": {
        "id": "V3f2Or1S8SM6"
      }
    },
    {
      "cell_type": "code",
      "source": [
        "# Comentario\n",
        "# var = 2\n",
        "# a variavel a recebe um valor\n",
        "a = 1\n",
        "print(a)"
      ],
      "metadata": {
        "colab": {
          "base_uri": "https://localhost:8080/"
        },
        "id": "lhrpQz8788Gj",
        "outputId": "08f6b9c0-ae56-44ef-d809-365e4a5b85b7"
      },
      "execution_count": null,
      "outputs": [
        {
          "output_type": "stream",
          "name": "stdout",
          "text": [
            "1\n"
          ]
        }
      ]
    },
    {
      "cell_type": "markdown",
      "source": [
        "Note, que tudo que tem # foi ignorado pelo compilador.\n",
        "\n",
        "Também é possível fazer o comentário de várias linhas usando três aspas."
      ],
      "metadata": {
        "id": "pP-WtVKS9LnT"
      }
    },
    {
      "cell_type": "code",
      "source": [
        "'''\n",
        "este é um comentario muito grande e por isso,\n",
        "pode ser interessante usar a quebra de linha e\n",
        "fazer um comentário em bloco...\n",
        "\n",
        "'''"
      ],
      "metadata": {
        "colab": {
          "base_uri": "https://localhost:8080/",
          "height": 53
        },
        "id": "XobiRknT9phM",
        "outputId": "f0770898-9663-4763-a8ce-cabaffc68e8e"
      },
      "execution_count": null,
      "outputs": [
        {
          "output_type": "execute_result",
          "data": {
            "text/plain": [
              "'\\neste é um comentario muito grande e por isso,\\npode ser interessante usar a quebra de linha e\\nfazer um comentário em bloco...\\n\\n'"
            ],
            "application/vnd.google.colaboratory.intrinsic+json": {
              "type": "string"
            }
          },
          "metadata": {},
          "execution_count": 10
        }
      ]
    },
    {
      "cell_type": "markdown",
      "source": [
        "**Dica: o \\n é usado para quebras de linhas em python.**\n",
        "\n",
        "Mas preferencialmente deve-se usar a # para fazer comentários!"
      ],
      "metadata": {
        "id": "aZHX91ON97GU"
      }
    },
    {
      "cell_type": "markdown",
      "source": [
        "# 3) Saída de dados (output)\n",
        "\n",
        "Esse é um ponto importante, pois através da entradas e saídas de dados conseguimos ter a interação com o usuário.\n",
        "\n",
        "A saída de dados ou *output* é como o computador apresenta os dados para o usuário. A função que utilizamos é **print(variavel).** Vamos com alguns exemplos abaixo."
      ],
      "metadata": {
        "id": "5lcUswST-g49"
      }
    },
    {
      "cell_type": "code",
      "source": [
        "# declaracao de algumas variaveis importantes\n",
        "nome = 'Ana'\n",
        "profissao = 'Engenheira eletricista'\n",
        "idade = '31'\n",
        "# saída\n",
        "print(nome,profissao,idade)\n",
        "# podemos escrever tudo junto ou separado\n",
        "print(nome)\n",
        "# ou em forma de texto mais compreensível\n",
        "print('O nome do usuario é', nome)\n",
        "# ou\n",
        "print('O usuário é', nome, ',tem a idade de:', idade, 'anos')\n",
        "# ou\n",
        "print(nome, 'é' ,profissao, 'e tem', idade, 'anos.')\n"
      ],
      "metadata": {
        "colab": {
          "base_uri": "https://localhost:8080/"
        },
        "id": "YzNAk6sS_nba",
        "outputId": "f2ab6075-b08e-4f99-8f06-c3ff30fe668e"
      },
      "execution_count": null,
      "outputs": [
        {
          "output_type": "stream",
          "name": "stdout",
          "text": [
            "Ana Engenheira eletricista 31\n",
            "Ana\n",
            "O nome do usuario é Ana\n",
            "O usuário é Ana ,tem a idade de: 31 anos\n",
            "Ana é Engenheira eletricista e tem 31 anos.\n"
          ]
        }
      ]
    },
    {
      "cell_type": "markdown",
      "source": [
        "# 4) Entrada de dados (input)\n",
        "\n",
        "Como já dito, é forma de interação com o usuário. É uma forma de como o algoritmo coleta informações.\n",
        "\n",
        "Utilizamos a função *input('..texto..')* para receber os dados, que são fornecidos pelo usuário. Opcionalmente, podemos usar uma frase, dentro do input, para instruir o usuário. A seguir segue alguns exemplos."
      ],
      "metadata": {
        "id": "C2lsSasdBeA7"
      }
    },
    {
      "cell_type": "code",
      "source": [
        "nome1 = input('Digite seu nome1:' )\n",
        "nome2 = input('Digite seu nome2:')\n",
        "type(nome1)\n",
        "type(nome2)"
      ],
      "metadata": {
        "colab": {
          "base_uri": "https://localhost:8080/"
        },
        "id": "Z0bMhyCPCV-e",
        "outputId": "e7888381-4a49-4303-8013-cc16d8a7f628"
      },
      "execution_count": null,
      "outputs": [
        {
          "name": "stdout",
          "output_type": "stream",
          "text": [
            "Digite seu nome1:ana\n",
            "Digite seu nome2:4\n"
          ]
        },
        {
          "output_type": "execute_result",
          "data": {
            "text/plain": [
              "str"
            ]
          },
          "metadata": {},
          "execution_count": 23
        }
      ]
    },
    {
      "cell_type": "markdown",
      "source": [
        "**Note, que a função input() entende que tudo que o usuário digita como uma string!**\n",
        "\n",
        "Se o usuário digitar nome, número, ou seja, tipos diferentes de dados. Tudo é entendido como uma string. Então devemos sempre transformar o que é digitado no tipo de dados que desejamos.\n",
        "\n",
        "Para isso, devemos fazer um tipo de sanduíche, colocando a função input() dentro de um float(). Segue o exemplo de como fazer isso."
      ],
      "metadata": {
        "id": "yoUVPSlxDZ29"
      }
    },
    {
      "cell_type": "code",
      "source": [
        "# entrada da idade\n",
        "idade2= int((input('Digite sua idade:')))\n",
        "print(idade2)\n",
        "# entrada de salario\n",
        "salario = float(input('Digite o seu salário:'))\n",
        "print(salario)\n",
        "# note que os tipos estao corretos agora\n",
        "type(salario)"
      ],
      "metadata": {
        "colab": {
          "base_uri": "https://localhost:8080/"
        },
        "id": "Y4-2Ah2zEqU8",
        "outputId": "28eef434-3f5c-4d10-c097-4a7c097c0a30"
      },
      "execution_count": null,
      "outputs": [
        {
          "output_type": "stream",
          "name": "stdout",
          "text": [
            "Digite sua idade:35\n",
            "35\n",
            "Digite o seu salário:5.6\n",
            "5.6\n"
          ]
        },
        {
          "output_type": "execute_result",
          "data": {
            "text/plain": [
              "float"
            ]
          },
          "metadata": {},
          "execution_count": 26
        }
      ]
    },
    {
      "cell_type": "markdown",
      "source": [
        "# 5) Operadores Matemáticos\n",
        "\n",
        "Em python é possível fazer diversas operações matemáticas, as mais básicas são:\n",
        "\n",
        "\n",
        "*   soma: (+)\n",
        "*   subtração: (-)\n",
        "*   multiplicação: (*)\n",
        "*   divisão: (/)\n",
        "*   potenciação: (**)"
      ],
      "metadata": {
        "id": "Gqhave2NGof_"
      }
    },
    {
      "cell_type": "code",
      "source": [
        "soma = 2+2\n",
        "subtracao = 10-5\n",
        "multiplicacao = 3*2\n",
        "divisao = 10/2\n",
        "potencia = 10**2\n",
        "print(soma,'\\n', subtracao,'\\n',multiplicacao,'\\n',divisao,'\\n', potencia )"
      ],
      "metadata": {
        "colab": {
          "base_uri": "https://localhost:8080/"
        },
        "id": "YZzcE5KnJAEB",
        "outputId": "919340ba-9e77-42b0-befb-14a6c4fb37b1"
      },
      "execution_count": null,
      "outputs": [
        {
          "output_type": "stream",
          "name": "stdout",
          "text": [
            "4 \n",
            " 5 \n",
            " 6 \n",
            " 5.0 \n",
            " 100\n"
          ]
        }
      ]
    },
    {
      "cell_type": "markdown",
      "source": [
        "Além disso, temos operações especiais:\n",
        "\n",
        "*   divisão inteira: (//) -> retorna a parte inteira da divisão de dois números.\n",
        "*   resto da divisão: (%) -> retorna o resto de uma divisão.\n",
        "\n"
      ],
      "metadata": {
        "id": "3wa5sVHpJAtb"
      }
    },
    {
      "cell_type": "code",
      "source": [
        "# retorna o valor inteiro da divisao de 9/2\n",
        "valor = 9//2\n",
        "print(valor)\n",
        "# retorna o resto da divisao:\n",
        "valor1 = 20%3\n",
        "print(valor1)"
      ],
      "metadata": {
        "colab": {
          "base_uri": "https://localhost:8080/"
        },
        "id": "3VWEDyeDKLzP",
        "outputId": "b3ad7bf4-f5a6-4c08-9497-bf7e1c982022"
      },
      "execution_count": null,
      "outputs": [
        {
          "output_type": "stream",
          "name": "stdout",
          "text": [
            "4\n",
            "2\n"
          ]
        }
      ]
    },
    {
      "cell_type": "markdown",
      "source": [
        "O principal uso do **operador % ** é para verificar se um **número é PAR ou ÍMPAR.**\n",
        "\n",
        "Se o resto da divisão de um número por 2 é **zero**: número é **par!**\n",
        "\n",
        "Se o resto da divisão de um número por 2 é **um**: número é **ímpar!**"
      ],
      "metadata": {
        "id": "y52be02qK_CH"
      }
    },
    {
      "cell_type": "markdown",
      "source": [
        "**Outro ponto importante é que não é possível fazer operações matemáticas que dados diferentes de int e float!** **Ao tentar somar um número com uma string dará erro!**"
      ],
      "metadata": {
        "id": "gGbsKEjLL3Vd"
      }
    },
    {
      "cell_type": "markdown",
      "source": [
        "# Calculadora em Python\n",
        "\n",
        "Com todas essas infotmações apresentadas e desenvolvidas somos capazes de resolver nosso problema inicial. Então vamos implementar nossa calculadora em python!"
      ],
      "metadata": {
        "id": "DnRu6pFsM5P9"
      }
    },
    {
      "cell_type": "code",
      "source": [
        "# Calculadora simples em python:\n",
        "# Autor: Ana Luiza Morais - 21/12/2023\n",
        "\n",
        "print('*****************Calculadora simples***********************')\n",
        "\n",
        "while True:\n",
        "    print(\"Escolha uma operação:\")\n",
        "    print(\"1. Somar\")\n",
        "    print(\"2. Subtrair\")\n",
        "    print(\"3. Multiplicar\")\n",
        "    print(\"4. Dividir\")\n",
        "    print(\"5. Sair\")\n",
        "\n",
        "    escolha = input(\"Digite o número da operação desejada: \")\n",
        "\n",
        "    if escolha == '5':\n",
        "        print(\"Saindo da calculadora.\")\n",
        "        break\n",
        "\n",
        "    if escolha in ('1', '2', '3', '4'):\n",
        "        num1 = float(input(\"Digite o primeiro número: \"))\n",
        "        num2 = float(input(\"Digite o segundo número: \"))\n",
        "\n",
        "        if escolha == '1':\n",
        "            print(f\"{num1} + {num2} = {num1 + num2}\")\n",
        "        elif escolha == '2':\n",
        "            print(f\"{num1} - {num2} = {num1 - num2}\")\n",
        "        elif escolha == '3':\n",
        "            print(f\"{num1} * {num2} = {num1 * num2}\")\n",
        "        elif escolha == '4':\n",
        "            if num2 != 0:\n",
        "                print(f\"{num1} / {num2} = {num1 / num2}\")\n",
        "            else:\n",
        "                print(\"Erro: divisão por zero\")\n",
        "        else:\n",
        "            print(\"Escolha inválida. Tente novamente.\")\n",
        "    else:\n",
        "        print(\"Escolha inválida. Tente novamente.\")\n"
      ],
      "metadata": {
        "id": "LAAubI_qNNlN"
      },
      "execution_count": null,
      "outputs": []
    }
  ]
}