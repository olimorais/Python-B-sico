{
  "nbformat": 4,
  "nbformat_minor": 0,
  "metadata": {
    "colab": {
      "provenance": [],
      "toc_visible": true,
      "authorship_tag": "ABX9TyOGNlBXZyUOgn5GUMIb8k55",
      "include_colab_link": true
    },
    "kernelspec": {
      "name": "python3",
      "display_name": "Python 3"
    },
    "language_info": {
      "name": "python"
    }
  },
  "cells": [
    {
      "cell_type": "markdown",
      "metadata": {
        "id": "view-in-github",
        "colab_type": "text"
      },
      "source": [
        "<a href=\"https://colab.research.google.com/github/olimorais/Python-B-sico/blob/main/B%C3%A1sico_3.ipynb\" target=\"_parent\"><img src=\"https://colab.research.google.com/assets/colab-badge.svg\" alt=\"Open In Colab\"/></a>"
      ]
    },
    {
      "cell_type": "markdown",
      "source": [
        "# Aula 3 - Listas e Loop for\n",
        "\n",
        "Nesse capítulo vamos explorar as seguintes estruturas em python:\n",
        "\n",
        "\n",
        "\n",
        "*   Listas\n",
        "*   Funções de listas\n",
        "*   Loop for\n",
        "\n",
        "---\n",
        "Problema gerador: calcular a média de um aluno, a partir das notas informadas por ele.\n",
        "\n",
        "\n",
        "\n"
      ],
      "metadata": {
        "id": "NH-aPWi8bI3t"
      }
    },
    {
      "cell_type": "markdown",
      "source": [
        "# 1) Listas\n",
        "\n",
        "Imagine que você quer armazenar diversas variáveis que estão relacionadas. Não é nada prático criar uma variável diferente para cada valor. Para resolver este problema usamos as **listas**.\n",
        "\n",
        "As listas são **conjuntos de objetos**, que podem ser de diversos tipos. É uma estrutura de dados, representada por uma única variável e dentro dela temos nossa \"coleção\" de valores.\n",
        "\n",
        "**As listas são indicadas por colchetes [].**\n",
        "\n",
        "Em python, uma lista, é do tipo list. Ao chamar type(lista), temos como retorno o tipo list.\n",
        "\n",
        "A lista é um objeto extremamente flexível, podemos criar listas, com números inteiros, negativos, com floats, com strings, lista de listas, com elementos booleanos, etc.\n",
        "\n",
        "---\n",
        "\n",
        "Em python, há várias maneiras de se criar listas. Segue as mais comuns:\n",
        "\n",
        "\n",
        "\n",
        "* Usando colchetes []:\n",
        "\n",
        "      A forma mais simples e direta de criar uma lista é usando colchetes\n",
        "      lista = [1,2,3,4,5]\n",
        "\n",
        "\n",
        "* Com a função list():\n",
        "\n",
        "      A função list() pode ser usada para converter outros tipos de dados iteráveis (como strings, tuplas, etc.) em listas.\n",
        "      texto = 'Python'\n",
        "      lista_texto = list(texto)\n",
        "\n",
        "\n",
        "* Compreensão de lista (list comprehension):\n",
        "\n",
        "      A compreensão de lista é uma maneira concisa de criar listas em uma única linha.\n",
        "      quadrados = [x**2 for x in range(1, 6)]\n",
        "\n",
        "\n",
        "\n",
        "* Usando a função range():\n",
        "\n",
        "      A função range() é usada para gerar uma sequência de números, que pode ser convertida em uma lista.\n",
        "      numeros = list(range(1, 6))\n",
        "\n",
        "* Usando a função append():\n",
        "\n",
        "      Criar uma lista vazia e adicionar elementos a ela usando\n",
        "      o método append().\n",
        "\n",
        "      lista_vazia = []\n",
        "      lista_vazia.append(1)\n",
        "      lista_vazia.append(2)\n",
        "\n",
        "\n",
        "* Usando a função extend():\n",
        "\n",
        "      O método extend() permite adicionar múltiplos elementos a uma lista.\n",
        "      \n",
        "      lista = [1, 2, 3]\n",
        "      lista.extend([4, 5, 6])\n",
        "\n",
        "\n",
        "Estes são apenas alguns dos métodos para criar listas."
      ],
      "metadata": {
        "id": "MSZdn_7tfa1T"
      }
    },
    {
      "cell_type": "markdown",
      "source": [
        "Outro ponto importante em lista, é saber como acessar os elementos que estão dentro das listas.\n",
        "\n",
        "Para fazer isso, devemos indicar que o **índice** do respectivo elemento, isto é, qual é a **posição desse elemento na lista**.\n",
        "\n",
        "Esse procedimento é conhecido como **indexação**. Em python, o primeiro elemento da lista começa em zero!\n",
        "\n",
        "Vamos a alguns exemplos abaixo.\n"
      ],
      "metadata": {
        "id": "El-adD_6k56e"
      }
    },
    {
      "cell_type": "code",
      "source": [
        "lista = [1, 10, 5, 3.14, 98, 2.5, 'Ana', 'Ada']\n"
      ],
      "metadata": {
        "id": "DICrAmMZmVPN"
      },
      "execution_count": null,
      "outputs": []
    },
    {
      "cell_type": "markdown",
      "source": [
        "Para acessar o elemento na **posição i** da \"lista\" fazemos:\n",
        "\n",
        "      lista[i]"
      ],
      "metadata": {
        "id": "0ulHGD85nLf1"
      }
    },
    {
      "cell_type": "markdown",
      "source": [
        "**Dicas importantes!**\n",
        "\n",
        "*   Primeiro elemento da lista tem índice 0:\n",
        "          acesso ao primeiro elemento da lista:\n",
        "          lista[0]\n",
        "\n",
        "\n",
        "*   O segundo elemento tem índice 1:\n",
        "          acesso ao segundo elemento da lsita:\n",
        "          lista[1]\n",
        "\n",
        "E assim por diante, até chegar ao último índice da lista!\n",
        "\n",
        "Também podemos acessar os últimos elementos da lista com números negativos!\n",
        "\n",
        "* Último elemento da lista, pode ter índice -1:\n",
        "        acesso ao último elemento da lista:\n",
        "        lista[-1]\n",
        "\n",
        "* O penúltimo elemento, tem índice -2:\n",
        "        acesso ao penúltimo elemento da lista:\n",
        "        lista[-2]         \n",
        "\n",
        "E assim por diante! Esse recurso é utilizado quando não sabemos o tamanho da lista!\n",
        "\n",
        "\n",
        "\n",
        "\n"
      ],
      "metadata": {
        "id": "YDizcR6Kndod"
      }
    },
    {
      "cell_type": "code",
      "source": [
        "p1 = lista[0]\n",
        "p2 = lista[1]\n",
        "p3 = lista[-1]\n",
        "print(lista) # print da lista criada\n",
        "print(p1, p2,p3) # print dos elementos acessados"
      ],
      "metadata": {
        "colab": {
          "base_uri": "https://localhost:8080/"
        },
        "id": "et8xjJuxpLiu",
        "outputId": "fe6997dc-6d71-4b9f-a4e5-16b2b8393b66"
      },
      "execution_count": null,
      "outputs": [
        {
          "output_type": "stream",
          "name": "stdout",
          "text": [
            "[1, 10, 5, 3.14, 98, 2.5, 'Ana', 'Ada']\n",
            "1 10 Ada\n"
          ]
        }
      ]
    },
    {
      "cell_type": "markdown",
      "source": [
        "Também podemos acessar \"pedaços\" da lista, para isso, devemos indicar os intervalos que queremos separados por \":\" e com o intervalo superior \"aberto\". Por exemplo:\n",
        "\n",
        "* lista[1:3] -> seleciona elementos do índice 1 ao índice 2;\n",
        "\n",
        "* lista[:4] -> seleciona os elementos até o índice 3;\n",
        "\n",
        "* lista[3:] -> seleciona o elemento de índice 3 até o fim da lista;\n",
        "\n",
        "* lista[:] -> seleciona todos elementos da lista\n",
        "\n",
        "\n",
        "Este conceito é chamado de **slicing**, já que você esta pegando **\"fatias\"** da lista!\n",
        "\n"
      ],
      "metadata": {
        "id": "wPl6QFFqpmI-"
      }
    },
    {
      "cell_type": "code",
      "source": [
        "minha_lista = list(range(1,10))\n",
        "print(minha_lista)\n",
        "\n",
        "s1 = minha_lista[1:3]\n",
        "print(s1)"
      ],
      "metadata": {
        "colab": {
          "base_uri": "https://localhost:8080/"
        },
        "id": "NovsFXqWsMj4",
        "outputId": "e5f4787e-b0c3-49fd-d014-990f3f18dfe9"
      },
      "execution_count": null,
      "outputs": [
        {
          "output_type": "stream",
          "name": "stdout",
          "text": [
            "[1, 2, 3, 4, 5, 6, 7, 8, 9]\n",
            "[2, 3]\n"
          ]
        }
      ]
    },
    {
      "cell_type": "markdown",
      "source": [
        "Ao trabalhar com lista de listas, devemos indexar múltiplos índices. Por exemplo:\n",
        "\n",
        "        lista1 = [[1,2], 'Ana', 2, 5.6, ['A', 'B', 'C']]\n",
        "        \n",
        "        c1 = lista1[0][1]\n",
        "        # acessei a lista da lista na posição 0 e peguei o elemento 1\n",
        "        print(c1) # retorna: 2"
      ],
      "metadata": {
        "id": "72Bi68OeuJlO"
      }
    },
    {
      "cell_type": "code",
      "source": [
        "lista1 = [[1,2], 'Ana', 2, 5.6, ['A', 'B', 'C']]\n",
        "\n",
        "c1 = lista1[0][1]\n",
        "print(c1)\n",
        "c2 = lista1[4][2]\n",
        "print(c2)"
      ],
      "metadata": {
        "colab": {
          "base_uri": "https://localhost:8080/"
        },
        "id": "A9pakPJzunVK",
        "outputId": "b7c16e7c-de4a-44ff-a12e-acdc6d85273a"
      },
      "execution_count": null,
      "outputs": [
        {
          "output_type": "stream",
          "name": "stdout",
          "text": [
            "2\n",
            "C\n"
          ]
        }
      ]
    },
    {
      "cell_type": "markdown",
      "source": [
        "Podemos também fazer algumas **opereções com listas!**\n",
        "\n",
        "\n",
        "\n",
        "1.   Soma de lista - ao **somar listas**, os elementos são **concatenados**, na ordem dada, para formar uma **lista maior.**\n",
        "\n",
        "          l1 =[1,2,3]\n",
        "          l2 = [4,5,6]\n",
        "          l3 = l1+l2\n",
        "          print(l3)\n",
        "          l3 = [1,2,3,4,5,6]\n",
        "\n"
      ],
      "metadata": {
        "id": "KuGy4kW-soWW"
      }
    },
    {
      "cell_type": "markdown",
      "source": [
        "\n",
        "\n",
        "2.   Multiplicação -  podemos **multiplicar a lista por um número inteiro qualquer**. O que se espero é que cada elemento seja multiplicado individualmente, **mas o que temos é a repetição desses elementos no ordem que aparecem.**\n",
        "\n",
        "          l4 = l1*2\n",
        "          print(l4)\n",
        "          l4 = [1, 2, 3, 1, 2, 3]\n",
        "\n",
        "\n"
      ],
      "metadata": {
        "id": "CvMAP565yTkb"
      }
    },
    {
      "cell_type": "markdown",
      "source": [
        "Se quisermos somar ou multiplicar cada elemento de uma lista devemos usar uma laço!\n",
        "\n",
        "Também é possível **transformar strings em uma lista de caracteres**!\n",
        "\n"
      ],
      "metadata": {
        "id": "-N9JC0rAzQXF"
      }
    },
    {
      "cell_type": "code",
      "source": [
        "nome = 'Ana'\n",
        "list(nome)"
      ],
      "metadata": {
        "colab": {
          "base_uri": "https://localhost:8080/"
        },
        "id": "fuEvCMh70It2",
        "outputId": "44173855-b699-4fb6-8eb6-e3ba82788e53"
      },
      "execution_count": null,
      "outputs": [
        {
          "output_type": "execute_result",
          "data": {
            "text/plain": [
              "['A', 'n', 'a']"
            ]
          },
          "metadata": {},
          "execution_count": 14
        }
      ]
    },
    {
      "cell_type": "markdown",
      "source": [
        "# 2) Funções de Listas\n",
        "\n",
        "Aqui nesta seção trataremos de algumas funções que são fundamentais em listas.\n",
        "As listas são estruturas completamente flexíveis e mutavéis, como por exemplo: podemos incrementar ou retirar elementos de uma lista, podemos inicializar uma lista vazia e acrescentando elementos aos poucos, etc. Existem muitas funcionalidades em uma lista, o que torna essa estrutura fundental em programação.\n",
        "\n",
        "Podemos criar uma **lista vazia**:\n",
        "\n",
        "        lista_vazia = []\n",
        "\n",
        "Com a lista criada, agora, é possível ir acrescentando elementos nela. Uma função muito interessante é o **.append()**, usamaos essa função para acrescentar o elemento no final da lista. E, detalhe, só é possível fazer isso um elemento por vez!\n",
        "\n",
        "        lista_vazia.append(5)\n",
        "\n",
        "Ao usar a sintaxe acima, estamos colocando o número 5 na lista vazia."
      ],
      "metadata": {
        "id": "w_tGOd719Xqd"
      }
    },
    {
      "cell_type": "code",
      "source": [
        "lista_vazia = []\n",
        "lista_vazia.append(5)\n",
        "print(lista_vazia)\n",
        "lista_vazia.append('Ana')\n",
        "print(lista_vazia)"
      ],
      "metadata": {
        "colab": {
          "base_uri": "https://localhost:8080/"
        },
        "id": "v2tXhWCk_S36",
        "outputId": "bc615373-6527-49e7-bb06-a3e7ae0cac4b"
      },
      "execution_count": null,
      "outputs": [
        {
          "output_type": "stream",
          "name": "stdout",
          "text": [
            "[5]\n",
            "[5, 'Ana']\n"
          ]
        }
      ]
    },
    {
      "cell_type": "markdown",
      "source": [
        "Note, como os elementos estão sendo inseridos na lista!\n",
        "\n"
      ],
      "metadata": {
        "id": "3hClkgE-_fvz"
      }
    },
    {
      "cell_type": "markdown",
      "source": [
        "Se você quiser inserir elementos, numa posição específica da lista, devemos usar a função .**insert(argumento 1, argumento 2)**. Onde o argumento 1 é posição na lista e o argumento 2 é o elemento."
      ],
      "metadata": {
        "id": "iY1xho9e_oyV"
      }
    },
    {
      "cell_type": "code",
      "source": [
        "lista2 = [0,1,2,3,4]\n",
        "lista2.insert(1,'Ana')\n",
        "print(lista2)\n"
      ],
      "metadata": {
        "colab": {
          "base_uri": "https://localhost:8080/"
        },
        "id": "cj_T9CbYAbhS",
        "outputId": "b61e39e1-b539-4ee7-c1b6-c19e6404e0ac"
      },
      "execution_count": null,
      "outputs": [
        {
          "output_type": "stream",
          "name": "stdout",
          "text": [
            "[0, 'Ana', 1, 2, 3, 4]\n"
          ]
        }
      ]
    },
    {
      "cell_type": "markdown",
      "source": [
        "O elemento 'Ana' foi inserido na \"lista2\", no índice 1. Note que os outros elementos da lista foram deslocados para a direita. Eles não foram nem apagados e nem perdidos, eles continuam presentes na lista."
      ],
      "metadata": {
        "id": "HE8rPgyMBoiG"
      }
    },
    {
      "cell_type": "markdown",
      "source": [
        "Podemos também, **redefinir um elemento na lista individualmente.**\n",
        "\n",
        "Para isso, temos que \"pegar\" esse elemento desejado e assim, tratá-lo como uma variável que pode ser alterada. Por exemplo:\n",
        "\n",
        "          lista3 = [0,1,2,3,4,5,6,7,8,9]\n",
        "          para alterar o elemnto na posição 3 fazemos;\n",
        "          lista3[3] = 'Ana'\n",
        "          print(lista3)\n",
        "          nova lista:\n",
        "          lista3 = [0,1,2, 'Ana',4,5,6,7,8,9]"
      ],
      "metadata": {
        "id": "1iqulp_pB_98"
      }
    },
    {
      "cell_type": "code",
      "source": [
        "lista3 = [0,1,2,3,4,5,6,7,8,9]\n",
        "lista3[3] = 'Ana'\n",
        "print(lista3)"
      ],
      "metadata": {
        "colab": {
          "base_uri": "https://localhost:8080/"
        },
        "id": "EzCFoC51C4tk",
        "outputId": "946a7dd6-c38d-40c3-d1a7-ac4d54981974"
      },
      "execution_count": null,
      "outputs": [
        {
          "output_type": "stream",
          "name": "stdout",
          "text": [
            "[0, 1, 2, 'Ana', 4, 5, 6, 7, 8, 9]\n"
          ]
        }
      ]
    },
    {
      "cell_type": "markdown",
      "source": [
        "Podemos também removar um elemento da lista, para isso, usa-se a função **.remove().**\n",
        "\n",
        "Dica: esse método remove somente a primeira aparição do elemento na lista.\n",
        "\n",
        "Segue, abaixo, um exemplo."
      ],
      "metadata": {
        "id": "e_TVMceEDadW"
      }
    },
    {
      "cell_type": "code",
      "source": [
        "lista4 = [1, 'Ana', 3, 'Ana', 6]\n",
        "lista4.remove('Ana')\n",
        "print(lista4)"
      ],
      "metadata": {
        "colab": {
          "base_uri": "https://localhost:8080/"
        },
        "id": "qRAhCQZNFg6g",
        "outputId": "878d800a-eb0f-411e-e82c-a2b10141cb52"
      },
      "execution_count": null,
      "outputs": [
        {
          "output_type": "stream",
          "name": "stdout",
          "text": [
            "[1, 3, 'Ana', 6]\n"
          ]
        }
      ]
    },
    {
      "cell_type": "markdown",
      "source": [
        "Note como somente a primeira aparição do elemento 'Ana' foi removido!\n",
        "\n",
        "**Para remover um elemento de um determinado índice devemos usar a função .pop()!**"
      ],
      "metadata": {
        "id": "QZyHKLaZFyEQ"
      }
    },
    {
      "cell_type": "code",
      "source": [
        "lista4.pop(-1)\n",
        "print(lista4)"
      ],
      "metadata": {
        "colab": {
          "base_uri": "https://localhost:8080/"
        },
        "id": "jgGUixLOGPDX",
        "outputId": "6ac0658b-fd6d-42ff-fdb7-9539192013df"
      },
      "execution_count": null,
      "outputs": [
        {
          "output_type": "stream",
          "name": "stdout",
          "text": [
            "[1, 3, 'Ana']\n"
          ]
        }
      ]
    },
    {
      "cell_type": "markdown",
      "source": [
        "Observe como o último elemento da lista foi removido!\n",
        "\n",
        "Outro aspecto interessante em programação, consiste em **ordenar uma lista**. Colocando os elementos em ordem crescente ou decrescente. Mas essa ordenação só pode ser **feita entre elementos do mesmo tipo**. Ou seja, se quiser ordenar uma lista que tenha int, float e str não é possível.\n",
        "\n",
        "\n",
        "A função usada para ordenar uma lista é **sorted(nome_da_lista)**. **O sorted(nome_da_lista) ordena de forma crescente.**"
      ],
      "metadata": {
        "id": "j_R3JYrBGWja"
      }
    },
    {
      "cell_type": "code",
      "source": [
        "lista5 = [10, 7, 25, -4, 0, 100]\n",
        "p = sorted(lista5)\n",
        "print(p)"
      ],
      "metadata": {
        "colab": {
          "base_uri": "https://localhost:8080/"
        },
        "id": "8vKqwOW-nS2l",
        "outputId": "487c8434-2a99-4a10-a143-9ffad1510944"
      },
      "execution_count": null,
      "outputs": [
        {
          "output_type": "stream",
          "name": "stdout",
          "text": [
            "[-4, 0, 7, 10, 25, 100]\n"
          ]
        }
      ]
    },
    {
      "cell_type": "markdown",
      "source": [
        "Um jeito interessante de **ordenar uma lista de forma decrescente** é utilizar o \"slicing\"."
      ],
      "metadata": {
        "id": "PT49VN_soVzL"
      }
    },
    {
      "cell_type": "code",
      "source": [
        "lista6 = [1,2,3,5,100]\n",
        "p5 =lista6[::-1]\n",
        "print(p5)"
      ],
      "metadata": {
        "colab": {
          "base_uri": "https://localhost:8080/"
        },
        "id": "z0yNMBJWop9g",
        "outputId": "d2a1cd10-2d67-41ce-fc70-aa626ea1b2a5"
      },
      "execution_count": null,
      "outputs": [
        {
          "output_type": "stream",
          "name": "stdout",
          "text": [
            "[100, 5, 3, 2, 1]\n"
          ]
        }
      ]
    },
    {
      "cell_type": "markdown",
      "source": [
        "Se, por exemplo, tivermos uma lista muito grande, é possível **descobrir o índice** de um determinado elemento. Usamos o método **.index().**\n",
        "\n"
      ],
      "metadata": {
        "id": "fwEO1o6OqU5C"
      }
    },
    {
      "cell_type": "code",
      "source": [
        "lista7 = [1, 5, 'Ana', 65, -4]\n",
        "lista7.index('Ana')"
      ],
      "metadata": {
        "colab": {
          "base_uri": "https://localhost:8080/"
        },
        "id": "WvDaRGDtq2w0",
        "outputId": "333a2185-b64b-445b-9743-e8ed68d1d820"
      },
      "execution_count": null,
      "outputs": [
        {
          "output_type": "execute_result",
          "data": {
            "text/plain": [
              "2"
            ]
          },
          "metadata": {},
          "execution_count": 6
        }
      ]
    },
    {
      "cell_type": "markdown",
      "source": [
        "Se na lista tiver elementos repetidos, o index() retorna o primeiro elemento que ta repetido.\n",
        "\n",
        "Por fim, podemos encontrar algumas **propriedades dos elementos da lista:**"
      ],
      "metadata": {
        "id": "kH9Mb54hrDC1"
      }
    },
    {
      "cell_type": "code",
      "source": [
        "prop_lista = [-9, 0, 100, 56, 0.5]"
      ],
      "metadata": {
        "id": "ge_cPRe2r5-k"
      },
      "execution_count": null,
      "outputs": []
    },
    {
      "cell_type": "markdown",
      "source": [
        "Para encontrar o maior elemento na lista, **max(nome_da_lista):**"
      ],
      "metadata": {
        "id": "3XSzqvTOsBgp"
      }
    },
    {
      "cell_type": "code",
      "source": [
        "max(prop_lista)"
      ],
      "metadata": {
        "colab": {
          "base_uri": "https://localhost:8080/"
        },
        "id": "7EZVZSaqsJOO",
        "outputId": "892f2ad6-c45e-4894-e4a9-c9437ae32fee"
      },
      "execution_count": null,
      "outputs": [
        {
          "output_type": "execute_result",
          "data": {
            "text/plain": [
              "100"
            ]
          },
          "metadata": {},
          "execution_count": 10
        }
      ]
    },
    {
      "cell_type": "markdown",
      "source": [
        "O menor elemento na lista, **min(nome_da_lista):**"
      ],
      "metadata": {
        "id": "qejnaRHMscua"
      }
    },
    {
      "cell_type": "code",
      "source": [
        "min(prop_lista)"
      ],
      "metadata": {
        "colab": {
          "base_uri": "https://localhost:8080/"
        },
        "id": "_qW4btl_sklm",
        "outputId": "23cdcf75-4008-4198-8078-cb33e31acbeb"
      },
      "execution_count": null,
      "outputs": [
        {
          "output_type": "execute_result",
          "data": {
            "text/plain": [
              "-9"
            ]
          },
          "metadata": {},
          "execution_count": 11
        }
      ]
    },
    {
      "cell_type": "markdown",
      "source": [
        "Para saber o tamanho da lista, **len(nome_da_lista):**\n",
        "\n"
      ],
      "metadata": {
        "id": "Rq7npLnYsuLh"
      }
    },
    {
      "cell_type": "code",
      "source": [
        "len(prop_lista)"
      ],
      "metadata": {
        "colab": {
          "base_uri": "https://localhost:8080/"
        },
        "id": "zOL7g8VTs9Vw",
        "outputId": "3149f575-63d1-4d1c-82fd-59bc59098f06"
      },
      "execution_count": null,
      "outputs": [
        {
          "output_type": "execute_result",
          "data": {
            "text/plain": [
              "5"
            ]
          },
          "metadata": {},
          "execution_count": 12
        }
      ]
    },
    {
      "cell_type": "markdown",
      "source": [
        "Podemos também somar todos elementos da lista, **sum(nome_da_lista):**"
      ],
      "metadata": {
        "id": "vwruLlLCtKu-"
      }
    },
    {
      "cell_type": "code",
      "source": [
        "sum(prop_lista)"
      ],
      "metadata": {
        "colab": {
          "base_uri": "https://localhost:8080/"
        },
        "id": "OfIZdEvAtRDi",
        "outputId": "928d6855-c857-41e3-df97-e22c18f5ff8f"
      },
      "execution_count": null,
      "outputs": [
        {
          "output_type": "execute_result",
          "data": {
            "text/plain": [
              "147.5"
            ]
          },
          "metadata": {},
          "execution_count": 13
        }
      ]
    },
    {
      "cell_type": "markdown",
      "source": [
        "Com essas duas funções, len() e sum(), conseguimos calcular a média.\n",
        "\n",
        "Sabemos que a média é calculada, media = (soma_dos_elementos)/(len(elementos)), somando todos os elementos e depois dividindo pela quantidade de elementos."
      ],
      "metadata": {
        "id": "p2RGGoIztTzJ"
      }
    },
    {
      "cell_type": "code",
      "source": [
        "# calculo da media das notas de 10 provas:\n",
        "\n",
        "notas = [4.5, 7.0, 3.5, 9, 5, 8.7, 4, 9, 10, 1.2]\n",
        "\n",
        "media = (sum(notas))/(len(notas))\n",
        "\n",
        "if media>=6:\n",
        "  print('Aprovado! Sua media geral foi:', media)\n",
        "else:\n",
        "  print('Reprovado!Sua media geral foi:', media)"
      ],
      "metadata": {
        "colab": {
          "base_uri": "https://localhost:8080/"
        },
        "id": "yULsuRuAveGc",
        "outputId": "b54b22c2-f3e7-434c-c582-97db9d7564e7"
      },
      "execution_count": null,
      "outputs": [
        {
          "output_type": "stream",
          "name": "stdout",
          "text": [
            "Aprovado! Sua media geral foi: 6.19\n"
          ]
        }
      ]
    },
    {
      "cell_type": "markdown",
      "source": [
        "Agora vamos fazer um programa mais completo, onde vamos solicitar ao usuário para digitar as notas das provas e isso retornará sua aprovoção ou não!"
      ],
      "metadata": {
        "id": "GXLFSahPyNem"
      }
    },
    {
      "cell_type": "code",
      "source": [
        "# entrada do numero de provas feitas pelo usuario:\n",
        "\n",
        "num_provas = int(input('Digite o número de provas feitas:'))\n",
        "\n",
        "# inicilizar lista vazia\n",
        "notas = []\n",
        "\n",
        "# contador\n",
        "i =0\n",
        "while i < num_provas :\n",
        "\n",
        "  # coleta as notas do usuario\n",
        "  nota_atual = float(input('Digite as notas:'))\n",
        "  # armazenar notas na lista vazia:\n",
        "  notas.append(nota_atual)\n",
        "  # acrescenta o contador\n",
        "  i += 1\n",
        "\n",
        "media = (sum(notas))/(len(notas))\n",
        "\n",
        "if media >= 6:\n",
        "  print('Aprovado!Sua média final foi de:', media)\n",
        "else:\n",
        "  print('Reprovado!Sua média final foi de:', media)"
      ],
      "metadata": {
        "colab": {
          "base_uri": "https://localhost:8080/"
        },
        "id": "XBY2Dp0eyYrL",
        "outputId": "178ee340-53fe-43b2-a518-844cea2dc3c8"
      },
      "execution_count": null,
      "outputs": [
        {
          "output_type": "stream",
          "name": "stdout",
          "text": [
            "Digite o número de provas feitas:5\n",
            "Digite as notas:2.3\n",
            "Digite as notas:6.7\n",
            "Digite as notas:9\n",
            "Digite as notas:5\n",
            "Digite as notas:10\n",
            "Aprovado!Sua média final foi de: 6.6\n"
          ]
        }
      ]
    },
    {
      "cell_type": "markdown",
      "source": [
        "# 3) Iterador - FOR\n",
        "\n",
        "A estrutura **for** também é uma **estruturação de repetição** !\n",
        "\n",
        "Mas em python, o for é mais que uma estrutura de repetição. **O for é uma estrutura de iteração!**\n",
        "\n",
        "Então o **for** é um operador usado para **percorrer elementos em uma lista!**\n",
        "\n",
        "A estrutura do for é\n",
        "\n",
        "    for item in lista:\n",
        "        operação_para_cada_item\n",
        "\n"
      ],
      "metadata": {
        "id": "jdT6L2MM0wnL"
      }
    },
    {
      "cell_type": "code",
      "source": [
        "lista8 = list(range(1, 5))\n",
        "\n",
        "for i in lista8: # note que i percorre, \"in\" = dentro da lista, lista8\n",
        "  print(i, i*2)"
      ],
      "metadata": {
        "colab": {
          "base_uri": "https://localhost:8080/"
        },
        "id": "8o5QCCI68pZl",
        "outputId": "d25814e1-508a-45fc-a301-f62fd95862ea"
      },
      "execution_count": null,
      "outputs": [
        {
          "output_type": "stream",
          "name": "stdout",
          "text": [
            "1 2\n",
            "2 4\n",
            "3 6\n",
            "4 8\n"
          ]
        }
      ]
    },
    {
      "cell_type": "markdown",
      "source": [
        "A variável i, dentro do for, é uma variável auxiliar. Ela não funciona fora do for.\n",
        "\n",
        "Vamos para um exemplo, considere uma lista com número positivos e negativos. Vamos separar os números positivos e negativos e alocalos em outra lista!"
      ],
      "metadata": {
        "id": "_syc51jK9N_Z"
      }
    },
    {
      "cell_type": "code",
      "source": [
        "# lista original\n",
        "\n",
        "lista_total = [3, 5.6, -10, -5, 9, -2, 34, -0.5]\n",
        "\n",
        "# criar lista vazias auxiliares:\n",
        "lista_positiva = []\n",
        "lista_negativa = []\n",
        "\n",
        "for i in lista_total:\n",
        "  if i < 0:\n",
        "    lista_negativa.append(i)\n",
        "  else:\n",
        "    lista_positiva.append(i)\n",
        "\n",
        "# saida das listas separadas:\n",
        "print(lista_positiva, lista_negativa)"
      ],
      "metadata": {
        "colab": {
          "base_uri": "https://localhost:8080/"
        },
        "id": "YZ8qc61L-DB8",
        "outputId": "8b6728c7-9a50-4317-fdc8-d89154c53420"
      },
      "execution_count": null,
      "outputs": [
        {
          "output_type": "stream",
          "name": "stdout",
          "text": [
            "[3, 5.6, 9, 34] [-10, -5, -2, -0.5]\n"
          ]
        }
      ]
    },
    {
      "cell_type": "markdown",
      "source": [
        "Note como é o comportamento do itarador for, ele não precisa de uma condição para parar. Ou seja, assim, que toda a extensão da lista é percorrida, ele já para \"automaticamente\".\n",
        "\n",
        "Então, nesse caso, nota-se a diferença fundamental do for com o while. No laço while precisamos de uma condição de parada, se não, o laço roda infinitamente.\n",
        "\n",
        "Para parar a iteração do for devemos usar um **break**. Por exemplo, queremos percorrer uma lista e encontrar um número negativo. Quando encontrarmos esse número, queremos sair do for!"
      ],
      "metadata": {
        "id": "W59ZjjQr_R9H"
      }
    },
    {
      "cell_type": "code",
      "source": [
        "lista_num = [1, 2, 3, 4, 5, -10, -11, -12]\n",
        "\n",
        "for i in lista_num:\n",
        "  if i < 0:\n",
        "    print('Número negativo! O número encontrado é:', i)\n",
        "    break\n",
        "  else:\n",
        "    print('Não tem número negativo na lista!')"
      ],
      "metadata": {
        "colab": {
          "base_uri": "https://localhost:8080/"
        },
        "id": "xUy9vRUnAVe9",
        "outputId": "0bd5913e-5b5a-4fd0-9440-559179db2b6f"
      },
      "execution_count": null,
      "outputs": [
        {
          "output_type": "stream",
          "name": "stdout",
          "text": [
            "Não tem número negativo na lista!\n",
            "Não tem número negativo na lista!\n",
            "Não tem número negativo na lista!\n",
            "Não tem número negativo na lista!\n",
            "Não tem número negativo na lista!\n",
            "Número negativo! O número encontrado é: -10\n"
          ]
        }
      ]
    },
    {
      "cell_type": "markdown",
      "source": [
        "# 3.1) Compressão de Listas\n",
        "\n",
        "Aqui trataremos de uma solução muito elegante do python!\n",
        "\n",
        "A **compreensão de listas** (list comprehension), é possível construir listas novas a partir de outras listas de forma bem condensada!\n",
        "\n",
        "A sintaxe é:\n",
        "\n",
        "      [operação_sobre_os_itens for item in lista_base]\n",
        "\n",
        "Por exemplo, vamos criar uma lista com o dobro de itens!      "
      ],
      "metadata": {
        "id": "m18XLZqYB87r"
      }
    },
    {
      "cell_type": "code",
      "source": [
        "# primeira forma\n",
        "\n",
        "lista10 = [1,2,3,4,5,6]\n",
        "lista_dobro =[]\n",
        "\n",
        "for i in lista10:\n",
        "  lista_dobro.append(2*i)\n",
        "\n",
        "print(lista_dobro)\n",
        "\n"
      ],
      "metadata": {
        "colab": {
          "base_uri": "https://localhost:8080/"
        },
        "id": "_ZfseTCiEfBv",
        "outputId": "46b02b10-adce-4495-d9d2-176a2dab5b53"
      },
      "execution_count": null,
      "outputs": [
        {
          "output_type": "stream",
          "name": "stdout",
          "text": [
            "[2, 4, 6, 8, 10, 12]\n"
          ]
        }
      ]
    },
    {
      "cell_type": "code",
      "source": [
        "# segunda forma + elegante\n",
        "\n",
        "lista_num_dobro = [2*i for i in lista10]\n",
        "print(lista_num_dobro)"
      ],
      "metadata": {
        "colab": {
          "base_uri": "https://localhost:8080/"
        },
        "id": "CAolNkAaFLxm",
        "outputId": "655786e3-d56e-48c4-e8e0-abc80c43d57c"
      },
      "execution_count": null,
      "outputs": [
        {
          "output_type": "stream",
          "name": "stdout",
          "text": [
            "[2, 4, 6, 8, 10, 12]\n"
          ]
        }
      ]
    },
    {
      "cell_type": "markdown",
      "source": [
        "Ambos os resultados foram identicos mas a segunda forma resolveu o problema em uma linha de código!\n",
        "\n"
      ],
      "metadata": {
        "id": "8C3CUmo7Fds7"
      }
    },
    {
      "cell_type": "markdown",
      "source": [
        "Também é possível construir uma lista usando compreensão de listas com base em alguma estrutura condicional!\n",
        "\n",
        "Se você for utilizar apenas o if, a sintaxe é:\n",
        "      \n",
        "        [operacao_sobre_os_items for item in lista_base if condicao]\n",
        "\n",
        "        "
      ],
      "metadata": {
        "id": "t_ImgAKYFqYK"
      }
    },
    {
      "cell_type": "markdown",
      "source": [
        "Caso você queira utilizar também o else como parte da estrutura condicional, a sintaxe muda um pouco:\n",
        "\n",
        "      [valor_caso_if if condicao else valor_caso_else for item in lista_base]"
      ],
      "metadata": {
        "id": "GAgL2ztUGIzx"
      }
    },
    {
      "cell_type": "markdown",
      "source": [
        "# Problema gerador: em uma única linha!\n",
        "\n",
        "Construa uma lista de notas e mostre se o usuário foi aprovado ou não!\n",
        "\n"
      ],
      "metadata": {
        "id": "YMX7E8wCGMBf"
      }
    },
    {
      "cell_type": "code",
      "source": [
        "notas = [float(input(f\"Digite a nota {i + 1}: \")) for i in range(int(input(\"Quantidade de notas: \")))]\n",
        "\n",
        "media = sum(notas)/len(notas)\n",
        "\n",
        "print(\"Aprovado!\" if media >= 6.0 else \"Reprovado\")\n"
      ],
      "metadata": {
        "id": "9olA_ih4GqvZ"
      },
      "execution_count": null,
      "outputs": []
    }
  ]
}