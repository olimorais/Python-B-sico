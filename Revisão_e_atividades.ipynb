{
  "nbformat": 4,
  "nbformat_minor": 0,
  "metadata": {
    "colab": {
      "provenance": [],
      "authorship_tag": "ABX9TyMyZHEWeY1xmEN66USa0hPX",
      "include_colab_link": true
    },
    "kernelspec": {
      "name": "python3",
      "display_name": "Python 3"
    },
    "language_info": {
      "name": "python"
    }
  },
  "cells": [
    {
      "cell_type": "markdown",
      "metadata": {
        "id": "view-in-github",
        "colab_type": "text"
      },
      "source": [
        "<a href=\"https://colab.research.google.com/github/olimorais/Python-B-sico/blob/main/Revis%C3%A3o_e_atividades.ipynb\" target=\"_parent\"><img src=\"https://colab.research.google.com/assets/colab-badge.svg\" alt=\"Open In Colab\"/></a>"
      ]
    },
    {
      "cell_type": "markdown",
      "source": [
        "# Início -  IDE's\n",
        "\n",
        "Em python existem diversas ferrementas e IDE's que podem ser utilizadas pelo programdor iniciante. As mais relevantes são:\n",
        "\n",
        "\n",
        "\n",
        "*   [Python](https://www.python.org/) - aqui temos a linguagem python e seu compilador diretamente.\n",
        "*   [Anaconda](https://store.continuum.io/cshop/anaconda/) - recomendo a instalação da distribuição Anaconda, que já contém a maioria das\n",
        "bibliotecas que você precisa para praticar data science.\n",
        "*   Google Colab - é usado na nuvem, funciona como o jupiter. Também recomendo o uso para os iniciantes em programação.\n",
        "\n",
        "\n"
      ],
      "metadata": {
        "id": "QH5cEasgF7xp"
      }
    },
    {
      "cell_type": "markdown",
      "source": [
        "# Exercícios Básicos:\n"
      ],
      "metadata": {
        "id": "oOOdBNxlKQ_o"
      }
    },
    {
      "cell_type": "markdown",
      "source": [
        "1)  Elaborar um programa Python para somar dois números:"
      ],
      "metadata": {
        "id": "VLRXrhoMPkUZ"
      }
    },
    {
      "cell_type": "code",
      "execution_count": null,
      "metadata": {
        "colab": {
          "base_uri": "https://localhost:8080/"
        },
        "id": "5QhofEJLFPqa",
        "outputId": "0be37399-6648-427c-bfc4-cb68267420b5"
      },
      "outputs": [
        {
          "output_type": "stream",
          "name": "stdout",
          "text": [
            "Digite um número qualquer: 34\n",
            "Digite outro número qualquer:6.7\n",
            "A soma dos números digitados é: 40.7\n"
          ]
        }
      ],
      "source": [
        "n1 = float(input('Digite um número qualquer: '))\n",
        "n2 = float(input('Digite outro número qualquer:'))\n",
        "\n",
        "soma = n1+n2\n",
        "\n",
        "print('A soma dos números digitados é:', soma)"
      ]
    },
    {
      "cell_type": "markdown",
      "source": [
        "Note que, se o usuário digitar um dado do tipo string teremos um erro. Então temos que validar a entreda do usuário."
      ],
      "metadata": {
        "id": "fwYOftEwR5Wj"
      }
    },
    {
      "cell_type": "code",
      "source": [
        "# Solicita que o usuário insira dois números\n",
        "num1_str = input(\"Digite o primeiro número: \")\n",
        "num2_str = input(\"Digite o segundo número: \")\n",
        "\n",
        "# Verifica se as entradas são números\n",
        "if num1_str.isnumeric() and num2_str.isnumeric(): # .isnumeric() método de str, para verificar se a entrada é um número ou não!\n",
        "    # Converte as entradas para ponto flutuante\n",
        "    num1 = float(num1_str)\n",
        "    num2 = float(num2_str)\n",
        "\n",
        "    # Realiza a soma dos dois números\n",
        "    soma = num1 + num2\n",
        "\n",
        "    # Exibe o resultado\n",
        "    print(f\"A soma de {num1} e {num2} é: {soma}\")\n",
        "else:\n",
        "    print(\"Erro: Certifique-se de inserir números válidos.\")\n"
      ],
      "metadata": {
        "colab": {
          "base_uri": "https://localhost:8080/"
        },
        "id": "rBgyM7yMSFE9",
        "outputId": "3a04b5dd-6218-4044-e726-5d372366abcf"
      },
      "execution_count": null,
      "outputs": [
        {
          "output_type": "stream",
          "name": "stdout",
          "text": [
            "Digite o primeiro número: 34\n",
            "Digite o segundo número: 56\n",
            "A soma de 34.0 e 56.0 é: 90.0\n"
          ]
        }
      ]
    },
    {
      "cell_type": "markdown",
      "source": [
        "2) Elaborar um programa Python para somar os digitos de um número menor que 100"
      ],
      "metadata": {
        "id": "Zq7JgSydSd_X"
      }
    },
    {
      "cell_type": "code",
      "source": [
        "numero = int(input('Digite um número menor que 100:'))\n",
        "\n",
        "if numero >= 100 :\n",
        "  print('Digite um número menor que 100!')\n",
        "else:\n",
        "  dezena = numero // 10 # Calcula a dezena usando a divisão inteira (//)\n",
        "  unidade = numero % 10 # calculo da unidade usando o operador de modulo (%)\n",
        "  soma = dezena + unidade\n",
        "  print('Soma é:', soma)"
      ],
      "metadata": {
        "colab": {
          "base_uri": "https://localhost:8080/"
        },
        "id": "PHnfQZU5SdPP",
        "outputId": "a5df1a7e-37bb-4ab2-8fad-bc3fa22ca92c"
      },
      "execution_count": null,
      "outputs": [
        {
          "output_type": "stream",
          "name": "stdout",
          "text": [
            "Digite um número menor que 100:45\n",
            "Soma é: 9\n"
          ]
        }
      ]
    },
    {
      "cell_type": "markdown",
      "source": [
        "3) Elaborar um programa Python para calcular a área de um triângulo.\n",
        "\n"
      ],
      "metadata": {
        "id": "1oe0n-INVYWK"
      }
    },
    {
      "cell_type": "code",
      "source": [
        "base = float(input('Digite o valor da base do triâgulo:'))\n",
        "altura = float(input('Digite o valor da altura do triângulo:'))\n",
        "\n",
        "area = (base*altura)/2\n",
        "\n",
        "print('Área do triângulo:', area)"
      ],
      "metadata": {
        "colab": {
          "base_uri": "https://localhost:8080/"
        },
        "id": "-X--Jv6WVm1s",
        "outputId": "d1fdd322-11d9-4783-a215-4bf59a4617d8"
      },
      "execution_count": null,
      "outputs": [
        {
          "output_type": "stream",
          "name": "stdout",
          "text": [
            "Digite o valor da base do triâgulo:4\n",
            "Digite o valor da altura do triângulo:6\n",
            "Área do triângulo: 12.0\n"
          ]
        }
      ]
    },
    {
      "cell_type": "markdown",
      "source": [
        "4) Elaborar um programa Python para imprimir os divisores de um número."
      ],
      "metadata": {
        "id": "vByNS_v2WC84"
      }
    },
    {
      "cell_type": "code",
      "source": [
        "n1 = int(input('Digite um número qualquer:'))\n",
        "print('Os divisores de', n1, 'são:')\n",
        "for i in range(1, n1 + 1):\n",
        " if n1 % i == 0:\n",
        "  print(i)\n"
      ],
      "metadata": {
        "colab": {
          "base_uri": "https://localhost:8080/"
        },
        "id": "UGpgRqPqWGM-",
        "outputId": "d42a36bd-5808-47f7-ebe3-3268bb21eb6c"
      },
      "execution_count": null,
      "outputs": [
        {
          "output_type": "stream",
          "name": "stdout",
          "text": [
            "Digite um número qualquer:10\n",
            "Os divisores de 10 são:\n",
            "1\n",
            "2\n",
            "5\n",
            "10\n"
          ]
        }
      ]
    },
    {
      "cell_type": "markdown",
      "source": [
        "5) Implemente um programa que desenhe um \"pinheiro\" na tela.\n",
        "Enriqueça o desenho com outros caracteres, simulando enfeites."
      ],
      "metadata": {
        "id": "maebdroBXC7f"
      }
    },
    {
      "cell_type": "code",
      "source": [
        "altura_pinheiro = int(input(\"Digite a altura do pinheiro: \"))\n",
        "\n",
        "# Desenhar o pinheiro\n",
        "for i in range(1, altura_pinheiro + 1):\n",
        "    espacos = altura_pinheiro - i\n",
        "    galhos = 2 * i - 1\n",
        "    print(\" \" * espacos + \"*\" * galhos)\n",
        "\n",
        "# Tronco do pinheiro\n",
        "tronco_altura = altura_pinheiro // 3\n",
        "tronco_largura = altura_pinheiro // 5\n",
        "tronco_posicao = altura_pinheiro // 2\n",
        "\n",
        "for _ in range(tronco_altura):\n",
        "    print(\" \" * (altura_pinheiro - tronco_largura) + \"|\" * tronco_largura)\n"
      ],
      "metadata": {
        "colab": {
          "base_uri": "https://localhost:8080/"
        },
        "id": "Drm-_ZGxXHk8",
        "outputId": "17b69f24-8a56-4a1e-dbfc-2f43be9f46fc"
      },
      "execution_count": null,
      "outputs": [
        {
          "output_type": "stream",
          "name": "stdout",
          "text": [
            "Digite a altura do pinheiro: 15\n",
            "              *\n",
            "             ***\n",
            "            *****\n",
            "           *******\n",
            "          *********\n",
            "         ***********\n",
            "        *************\n",
            "       ***************\n",
            "      *****************\n",
            "     *******************\n",
            "    *********************\n",
            "   ***********************\n",
            "  *************************\n",
            " ***************************\n",
            "*****************************\n",
            "            |||\n",
            "            |||\n",
            "            |||\n",
            "            |||\n",
            "            |||\n"
          ]
        }
      ]
    },
    {
      "cell_type": "markdown",
      "source": [
        "6) Elaborar um programa Python para verificar se um número é par ou ímpar.\n"
      ],
      "metadata": {
        "id": "XRvF-jDBXdVM"
      }
    },
    {
      "cell_type": "code",
      "source": [
        "n = int(input('Digite um número qualquer:'))\n",
        "\n",
        "if n % 2 ==0:\n",
        "  print('O número é par!')\n",
        "else:\n",
        "  print('O número é ímpar!')"
      ],
      "metadata": {
        "id": "RLdpbFMTXg5H"
      },
      "execution_count": null,
      "outputs": []
    },
    {
      "cell_type": "markdown",
      "source": [
        "7) Elaborar um programa Python para calcular as raízes da equação do segundo grau."
      ],
      "metadata": {
        "id": "A6Fzcp-QYV-2"
      }
    },
    {
      "cell_type": "code",
      "source": [
        "import math\n",
        "import cmath\n",
        "\n",
        "a = float(input('Digite o a:'))\n",
        "b = float(input('Digite o b:'))\n",
        "c = float(input('Digite o c:'))\n",
        "\n",
        "if a==0:\n",
        "  print('Não é uma equação do segundo grau!')\n",
        "else:\n",
        "  delta = (b**2) - (4*a*c)\n",
        "if delta < 0: # Raízes complexas\n",
        "    x1= (-b + cmath.sqrt(delta))/(2*a)\n",
        "    x2= (-b - cmath.sqrt(delta))/(2*a)\n",
        "    print('Raizes complexas:',x1, 'e' ,x2)\n",
        "elif delta == 0: # Apenas uma raiz\n",
        "      x = -b / (2*a)\n",
        "      print('Uma raiz real:', x)\n",
        "else: # Duas raízes\n",
        "      x1 = (-b + math.sqrt(delta)) / (2*a)\n",
        "      x2 = (-b - math.sqrt(delta)) / (2*a)\n",
        "      print('Duas raízes reais:', x1, 'e', x2)"
      ],
      "metadata": {
        "colab": {
          "base_uri": "https://localhost:8080/"
        },
        "id": "DurirR16YXiO",
        "outputId": "502dd18d-0cf3-4ea6-9e5a-6157da38931c"
      },
      "execution_count": null,
      "outputs": [
        {
          "output_type": "stream",
          "name": "stdout",
          "text": [
            "Digite o a:3\n",
            "Digite o b:13\n",
            "Digite o c:8\n",
            "Duas raízes reais: -0.7426660424470782 e -3.5906672908862554\n"
          ]
        }
      ]
    }
  ]
}