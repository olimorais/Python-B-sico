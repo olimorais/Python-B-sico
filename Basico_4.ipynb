{
  "nbformat": 4,
  "nbformat_minor": 0,
  "metadata": {
    "colab": {
      "provenance": [],
      "authorship_tag": "ABX9TyMpjHoXJW+Qv4JKbEPS0R/m",
      "include_colab_link": true
    },
    "kernelspec": {
      "name": "python3",
      "display_name": "Python 3"
    },
    "language_info": {
      "name": "python"
    }
  },
  "cells": [
    {
      "cell_type": "markdown",
      "metadata": {
        "id": "view-in-github",
        "colab_type": "text"
      },
      "source": [
        "<a href=\"https://colab.research.google.com/github/olimorais/Python-B-sico/blob/main/Basico_4.ipynb\" target=\"_parent\"><img src=\"https://colab.research.google.com/assets/colab-badge.svg\" alt=\"Open In Colab\"/></a>"
      ]
    },
    {
      "cell_type": "markdown",
      "source": [
        "# Strings\n",
        "\n",
        "Nesse capítulo trataremos mais a fundo sobre as strings!\n",
        "\n",
        "Elas são tipos de dados fundamentais em data science e temos que aprender novos métodos para lidar/validar os dados de entrada"
      ],
      "metadata": {
        "id": "sVHAzAshpady"
      }
    },
    {
      "cell_type": "markdown",
      "source": [
        "# 1) Strings\n",
        "\n",
        "\n",
        "Sabemos que **strings** são **dados textuais**.\n",
        "\n",
        "Uma **string** é **coleção de caracteres!**\n",
        "\n",
        "Assim, podemos acessar caracteres específicos ou então um intervalo de caracteres de uma string, como se fosse uma lista!\n",
        "\n",
        "**Dica: para strings, o índice também começa em zero e também podemos usar índices negativos!**\n",
        "\n",
        "Apesar de se parecer muito com uma lista, as strings não tem exatamente as mesmas propriedades da lista. Por exemplo, não podemos alterar caracteres indiviadualmente como nas listas."
      ],
      "metadata": {
        "id": "dYSCFjilQyzG"
      }
    },
    {
      "cell_type": "code",
      "execution_count": null,
      "metadata": {
        "colab": {
          "base_uri": "https://localhost:8080/"
        },
        "id": "gCDEIZ6OpXis",
        "outputId": "5c27c01c-4ab8-407b-e6b0-a281dfb1a1e9"
      },
      "outputs": [
        {
          "output_type": "stream",
          "name": "stdout",
          "text": [
            "[1, 2, 4, 6, 'Ana']\n"
          ]
        }
      ],
      "source": [
        "# Nas lista podemos fazer\n",
        "\n",
        "lista =[1, 2, 4, 6, 10]\n",
        "lista[-1] = 'Ana'\n",
        "print(lista)\n",
        "# note que alteramos 10 por 'Ana'"
      ]
    },
    {
      "cell_type": "markdown",
      "source": [
        "Numa string, temos que usar o método **replace()**. Por ele é possível alterar caracteres ou a palavra.\n",
        "\n",
        "    nome.replace('caracter a ser substituido', 'caracter novo')"
      ],
      "metadata": {
        "id": "-E0JvVbKS-25"
      }
    },
    {
      "cell_type": "code",
      "source": [
        "nome = 'Andre'\n",
        "c = nome.replace(\"e\", \"x\")\n",
        "print(nome, c)\n",
        "# note que a mudança  não ocorre na variaável original \"nome\"\n"
      ],
      "metadata": {
        "colab": {
          "base_uri": "https://localhost:8080/"
        },
        "id": "ryxDeQoKU6Uq",
        "outputId": "828b58c7-7244-4da3-8bab-7468b8f4d5a1"
      },
      "execution_count": null,
      "outputs": [
        {
          "output_type": "stream",
          "name": "stdout",
          "text": [
            "Andre Andrx\n"
          ]
        }
      ]
    },
    {
      "cell_type": "markdown",
      "source": [
        "Podemos transformar uma string numa lista diretamente usando o método list."
      ],
      "metadata": {
        "id": "NcuQyGFbVltU"
      }
    },
    {
      "cell_type": "code",
      "source": [
        "lista = list(nome)\n",
        "print(lista)"
      ],
      "metadata": {
        "colab": {
          "base_uri": "https://localhost:8080/"
        },
        "id": "efYmFxSvVrku",
        "outputId": "65793ca7-da89-44bc-cf7a-46b8b118c141"
      },
      "execution_count": null,
      "outputs": [
        {
          "output_type": "stream",
          "name": "stdout",
          "text": [
            "['A', 'n', 'd', 'r', 'e']\n"
          ]
        }
      ]
    },
    {
      "cell_type": "markdown",
      "source": [
        "Quando fazemos essa manipulação de transformar os caracteres em uma lista de fato, podemos, fazer as manipulações suportadas pela lista."
      ],
      "metadata": {
        "id": "SxFWrtmUV9Lo"
      }
    },
    {
      "cell_type": "markdown",
      "source": [
        "E para fazer a operação inversa, ou seja, **transformar uma lista em strin**g, usa-se o método **join()**.\n",
        "\n",
        "      \"\".join(nome_lista)\n",
        "\n",
        "Note que, o primeiro termo, \"\" é uma stringa vazia. O .join(nome_lista), conccatena a lista nessa string vazia. Assim, novamente, é formada a minha palavra.      "
      ],
      "metadata": {
        "id": "py91X4RJWU5E"
      }
    },
    {
      "cell_type": "code",
      "source": [
        "nome = \"Ana\"  # a string nome\n",
        "lista_nome = list(nome)  # transforma a string em uma lista\n",
        "print(lista_nome)  # print da lista\n",
        "a = \"\".join(lista_nome)  # transforma a lista em uma string\n",
        "print(a) # print da string"
      ],
      "metadata": {
        "colab": {
          "base_uri": "https://localhost:8080/"
        },
        "id": "gfu-Cye9XJ2c",
        "outputId": "42326275-bc95-4e00-f1d1-2913cb07c836"
      },
      "execution_count": null,
      "outputs": [
        {
          "output_type": "stream",
          "name": "stdout",
          "text": [
            "['A', 'n', 'a']\n",
            "Ana\n"
          ]
        }
      ]
    },
    {
      "cell_type": "markdown",
      "source": [
        "# 2) Funções de strings\n",
        "\n",
        "As **strings** possuem funções específicas. Na verdade, essas funções são chamadas de **métodos**. É método porque elas atuam somente na string, eles porxemplo, não funcionam em listas. Então chamamos de função algo que é mais genérico.\n",
        "\n",
        "\n",
        "Aqui trataremos de **métodos de strings** .\n",
        "\n",
        "Nesse link tem os métodos mais usados e importantes: [método de strings](https://www.w3schools.com/python/python_ref_string.asp) .\n",
        "\n",
        "Alguns desses métodos são:\n",
        "\n",
        "\n"
      ],
      "metadata": {
        "id": "wpmv5r800rvY"
      }
    },
    {
      "cell_type": "markdown",
      "source": [
        "**upper()** transforma letras minúsculas em maiúsculas."
      ],
      "metadata": {
        "id": "hPx767LN05p9"
      }
    },
    {
      "cell_type": "code",
      "source": [
        "nome = 'ana'\n",
        "nome.upper()"
      ],
      "metadata": {
        "colab": {
          "base_uri": "https://localhost:8080/",
          "height": 35
        },
        "id": "28na4FJY1Hq0",
        "outputId": "a27cfa4c-a2b2-4398-9cf3-c407e7049ad0"
      },
      "execution_count": null,
      "outputs": [
        {
          "output_type": "execute_result",
          "data": {
            "text/plain": [
              "'ANA'"
            ],
            "application/vnd.google.colaboratory.intrinsic+json": {
              "type": "string"
            }
          },
          "metadata": {},
          "execution_count": 11
        }
      ]
    },
    {
      "cell_type": "markdown",
      "source": [
        "**.lower()** transforma tudo em letras minúsculas."
      ],
      "metadata": {
        "id": "Jp_t2JLS2S-w"
      }
    },
    {
      "cell_type": "code",
      "source": [
        "n1 = 'BEM VINDOS!'\n",
        "n1.lower()"
      ],
      "metadata": {
        "colab": {
          "base_uri": "https://localhost:8080/",
          "height": 35
        },
        "id": "cKFqqlqs2ZKW",
        "outputId": "404923e3-52d8-4c13-bae1-a116c2e8fbe5"
      },
      "execution_count": null,
      "outputs": [
        {
          "output_type": "execute_result",
          "data": {
            "text/plain": [
              "'bem vindos!'"
            ],
            "application/vnd.google.colaboratory.intrinsic+json": {
              "type": "string"
            }
          },
          "metadata": {},
          "execution_count": 12
        }
      ]
    },
    {
      "cell_type": "markdown",
      "source": [
        "**.title()** deixa a primeira letra de cada palavra maiúscula."
      ],
      "metadata": {
        "id": "izvJeSna2jI2"
      }
    },
    {
      "cell_type": "code",
      "source": [
        "n2 = 'bem-vinda ana!'\n",
        "n2.title()"
      ],
      "metadata": {
        "colab": {
          "base_uri": "https://localhost:8080/",
          "height": 35
        },
        "id": "A-xyYWb52p7P",
        "outputId": "46128ff2-6336-49a8-feb7-9f8507f62e21"
      },
      "execution_count": null,
      "outputs": [
        {
          "output_type": "execute_result",
          "data": {
            "text/plain": [
              "'Bem-Vinda Ana!'"
            ],
            "application/vnd.google.colaboratory.intrinsic+json": {
              "type": "string"
            }
          },
          "metadata": {},
          "execution_count": 13
        }
      ]
    },
    {
      "cell_type": "markdown",
      "source": [
        "**.capitalize()** deixa a primeira letra da primeira palavra em maiúscula."
      ],
      "metadata": {
        "id": "BosNnMX423Ty"
      }
    },
    {
      "cell_type": "code",
      "source": [
        "n2.capitalize()"
      ],
      "metadata": {
        "colab": {
          "base_uri": "https://localhost:8080/",
          "height": 35
        },
        "id": "1aLUG39i2_hq",
        "outputId": "fcf17389-aadc-46f3-f936-0bcfd083b85d"
      },
      "execution_count": null,
      "outputs": [
        {
          "output_type": "execute_result",
          "data": {
            "text/plain": [
              "'Bem-vinda ana!'"
            ],
            "application/vnd.google.colaboratory.intrinsic+json": {
              "type": "string"
            }
          },
          "metadata": {},
          "execution_count": 14
        }
      ]
    },
    {
      "cell_type": "markdown",
      "source": [
        "Esses métodos são muito interessantes, pois por ele podemos pré-processar nossos dados para deixar uma única formatação e também são muito utilizados para validar a entrada do usuário."
      ],
      "metadata": {
        "id": "VKHqtMKb3D0I"
      }
    },
    {
      "cell_type": "markdown",
      "source": [
        "# 2.1) Formatação de Strings\n",
        "\n",
        "\n",
        "A formatação de strings é muito útil tanto para receber dados do usuário (input) quanto ao exibir(print) informações para o usuário.\n",
        "\n"
      ],
      "metadata": {
        "id": "-Q6eZpAa4mVm"
      }
    },
    {
      "cell_type": "markdown",
      "source": [
        "O primeiro exemplo, seria formatar datas. Normalmente, queremos que as datas saim assim: \"01/02/2023\". Mas no python, não aceita o usuário digitar o dia 01, somente aceita o dia 1. Então vamos resolver esse problema!"
      ],
      "metadata": {
        "id": "1dqc6sUS6r9k"
      }
    },
    {
      "cell_type": "code",
      "source": [
        "dia, mes, ano = 1, 2, 2023\n",
        "data = \"{:02d}/{:02d}/{:04d}\".format(dia,mes,ano)\n",
        "print(data)"
      ],
      "metadata": {
        "colab": {
          "base_uri": "https://localhost:8080/"
        },
        "id": "1t4rpYFG7AOP",
        "outputId": "ad398632-bd8d-4042-dbfe-ee79b72bfe13"
      },
      "execution_count": null,
      "outputs": [
        {
          "output_type": "stream",
          "name": "stdout",
          "text": [
            "01/02/2023\n"
          ]
        }
      ]
    },
    {
      "cell_type": "markdown",
      "source": [
        "Note que usamos o método .format(). Colocamos três \"{}\", uma para cada variável a ser formatada. E dentro delas escrevemos {:02d} => completa com zero, a esquerda, até ter 2 decimais."
      ],
      "metadata": {
        "id": "dfTxjLDk7aFv"
      }
    },
    {
      "cell_type": "markdown",
      "source": [
        "Outro formatação interessante é de floats. Para isso fazemos\n",
        "\n",
        "          \"{:.2f}\".format(valor_float)\n",
        "\n",
        "Depois do \".\" colocamos quantas casas decimais que queremos que apareça, no exemplo, coloquei 2. E o f indica o tipo float da variável.           "
      ],
      "metadata": {
        "id": "fPAviRh08NV5"
      }
    },
    {
      "cell_type": "code",
      "source": [
        "salario = 3056.56789\n",
        "f = \"{:.2f}\".format(salario)\n",
        "print(f)"
      ],
      "metadata": {
        "colab": {
          "base_uri": "https://localhost:8080/"
        },
        "id": "vM-0_qre8s7x",
        "outputId": "ae7febbe-8379-402c-c790-d90bab2abad0"
      },
      "execution_count": null,
      "outputs": [
        {
          "output_type": "stream",
          "name": "stdout",
          "text": [
            "3056.57\n"
          ]
        }
      ]
    },
    {
      "cell_type": "markdown",
      "source": [
        "Note que a formção faz um  \"arredondamento\" !"
      ],
      "metadata": {
        "id": "z79Z-SJJ9Aah"
      }
    }
  ]
}