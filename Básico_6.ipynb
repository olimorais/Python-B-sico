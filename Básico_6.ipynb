{
  "cells": [
    {
      "cell_type": "markdown",
      "metadata": {
        "id": "view-in-github",
        "colab_type": "text"
      },
      "source": [
        "<a href=\"https://colab.research.google.com/github/olimorais/Python-B-sico/blob/main/B%C3%A1sico_6.ipynb\" target=\"_parent\"><img src=\"https://colab.research.google.com/assets/colab-badge.svg\" alt=\"Open In Colab\"/></a>"
      ]
    },
    {
      "cell_type": "markdown",
      "metadata": {
        "id": "CnfTfC7LN3ag"
      },
      "source": [
        "# Outras Estruturas do python\n",
        "\n",
        "Nesta seção trataremos de outros estruturas em python, que são tão importantes quanto as listas. Elas são estruturas nativas. Essas estruturas são:\n",
        "\n",
        "\n",
        "\n",
        "*   Tuplas\n",
        "*   Dicionários\n",
        "*   Conjuntos\n",
        "\n",
        "\n",
        "\n",
        "---\n",
        "\n",
        "Problema gerador: Criar um programa que faz cadastros!"
      ]
    },
    {
      "cell_type": "markdown",
      "metadata": {
        "id": "xu4hStH-Squ4"
      },
      "source": [
        "# 1) Tuplas\n",
        "\n",
        "As tuplas são estruturas bem parecidas com as listas!\n",
        "\n",
        "As tuplas:\n",
        "\n",
        "* Podem guardar tipos diferentes de dados (int, float, str, etc).\n",
        "* São indexadas, isto é, o elemento pode ser acessado.\n",
        "* São iteráveis, isto é, podem ser percorridas pelo for.\n",
        "\n",
        "\n",
        "A principal diferença das tuplas com as listas, é que, as **tuplas são imutáveis!**\n",
        "\n",
        "Isto é, nas tuplas **não é possível**: alterar elementos individuais, adicionar elementos, remover elementos ou alterar a ordem dos elementos. **Uma vez criada, não é possível alterar a tupla!**\n",
        "\n",
        "Mas, então, para que servem as tuplas?\n",
        "\n",
        "* É um jeito de sinalizar que esses **dados não devem ser alterados**!\n",
        "* É um meio de garantir que os **elementos estão em uma ordem específica!**\n",
        "* O **acesso** ao elemento de uma tupla é bem **mais rápido!**\n",
        "\n",
        "\n",
        "Tuplas são inicializadas como uma sequência de valores ou dados entre parênteses () .\n",
        "\n"
      ]
    },
    {
      "cell_type": "code",
      "execution_count": null,
      "metadata": {
        "colab": {
          "base_uri": "https://localhost:8080/"
        },
        "id": "wl9k0WAjUj8B",
        "outputId": "7f366a20-1cc6-461a-ce20-83baa2066e04"
      },
      "outputs": [
        {
          "name": "stdout",
          "output_type": "stream",
          "text": [
            "(1, 2, 3.4, 'Ana')\n",
            "(1, 2, 3.4, 'Ana', 10)\n"
          ]
        }
      ],
      "source": [
        "# inicialização da tupla\n",
        "\n",
        "tupla_1 = (1,2, 3.4, 'Ana')\n",
        "print(tupla_1)\n",
        "\n",
        "# outro modo de inicializar a tupla\n",
        "tupla_2 = 1, 2, 3.4, 'Ana', 10\n",
        "print(tupla_2)"
      ]
    },
    {
      "cell_type": "markdown",
      "metadata": {
        "id": "rE_qeChfVNHo"
      },
      "source": [
        "Operações com Tupla:"
      ]
    },
    {
      "cell_type": "code",
      "execution_count": null,
      "metadata": {
        "colab": {
          "base_uri": "https://localhost:8080/",
          "height": 35
        },
        "id": "jXiz7ziuVoF0",
        "outputId": "9fe30557-a365-42fb-ddb0-b1253e5c7cad"
      },
      "outputs": [
        {
          "data": {
            "application/vnd.google.colaboratory.intrinsic+json": {
              "type": "string"
            },
            "text/plain": [
              "'Ana'"
            ]
          },
          "execution_count": 4,
          "metadata": {},
          "output_type": "execute_result"
        }
      ],
      "source": [
        "# tuplas são indexáveis:\n",
        "\n",
        "tupla_1[-1]"
      ]
    },
    {
      "cell_type": "code",
      "execution_count": null,
      "metadata": {
        "colab": {
          "base_uri": "https://localhost:8080/"
        },
        "id": "RQWY9hiBVvOd",
        "outputId": "f74f3e72-16cd-4f1e-a1d9-198ed2ddb581"
      },
      "outputs": [
        {
          "name": "stdout",
          "output_type": "stream",
          "text": [
            "1\n",
            "2\n",
            "3.4\n",
            "Ana\n"
          ]
        }
      ],
      "source": [
        "# tuplas são iteráveis:\n",
        "\n",
        "for i in tupla_1:\n",
        "  print(i)"
      ]
    },
    {
      "cell_type": "markdown",
      "metadata": {
        "id": "7AeosqfjWH0A"
      },
      "source": [
        "Mas as tuplas são imutáveis! Não existe: uma tupla.append(), tupla.remove(), etc! Não podemos alterar nada na tupla depois de criada.\n",
        "\n",
        "Mas existe uma forma, que é um pouco forçada. Primeiro transforma-se a tupla em lista, altera-se ou faz a operação desejada e por fim faz a transformação reversa (transforma lsita em tupla). Para isso fazemos:\n",
        "\n",
        "      tupla = (1,2,3,4,5)\n",
        "      lista = list(tupla)\n",
        "      lista[0] = 'Ana'\n",
        "      tupla_modificada = tuple(lista)"
      ]
    },
    {
      "cell_type": "code",
      "execution_count": null,
      "metadata": {
        "colab": {
          "base_uri": "https://localhost:8080/"
        },
        "id": "LkTBMcEcXPMQ",
        "outputId": "28304d09-7517-4350-8786-cb8f4c7854ec"
      },
      "outputs": [
        {
          "name": "stdout",
          "output_type": "stream",
          "text": [
            "(1, 2, 3, 4, 5) ['Ana', 2, 3, 4, 5] ('Ana', 2, 3, 4, 5)\n"
          ]
        }
      ],
      "source": [
        "tupla = (1,2,3,4,5)\n",
        "lista = list(tupla)\n",
        "lista[0] = 'Ana'\n",
        "tupla_modificada = tuple(lista)\n",
        "print(tupla, lista, tupla_modificada)"
      ]
    },
    {
      "cell_type": "markdown",
      "metadata": {
        "id": "Yxtfiy1zXcCZ"
      },
      "source": [
        "Note, que é um procedimento bem artificial. Porque a tupla original se matém inalterada.\n"
      ]
    },
    {
      "cell_type": "markdown",
      "metadata": {
        "id": "rmAeB_klYL6G"
      },
      "source": [
        "# 2) Dicionários\n",
        "\n",
        "O **dicionário** também é uma **coleção de valores!**\n",
        "\n",
        "A diferença é que um dicionário é **definido a partir de dois elementos: uma chave e um valor.**\n",
        "\n",
        "* **Chave** -> é usada como um índice, identificando os respectivos valores. A diferença é que não precisa indexar pela ordem dos elementos. As chaver podem ser de qualquer tipo, que é **imutável**, como int, float, booleano, str, etc.\n",
        "\n",
        "* **Valor** -> pode ser qualquer tipo de dado, um int, float, uma lista, uma tupla, etc. Temos total flexibilidade!\n",
        "\n",
        "Dicionários são inicializados com chaves {}, seguindo a estrutura abaixo:\n",
        "\n",
        "      dicionario = {\"chave\": valor}"
      ]
    },
    {
      "cell_type": "code",
      "execution_count": null,
      "metadata": {
        "colab": {
          "base_uri": "https://localhost:8080/"
        },
        "id": "IvMwrmk-Zo8Q",
        "outputId": "66d7b834-d524-4c5f-ec6b-59128bb5a03b"
      },
      "outputs": [
        {
          "name": "stdout",
          "output_type": "stream",
          "text": [
            "{'a': 3, 'b': 4, 'c': 10}\n"
          ]
        }
      ],
      "source": [
        "# inicialização de um dicionário:\n",
        "\n",
        "dicionario = {\"a\": 3, \"b\":4, \"c\": 10}\n",
        "print(dicionario)"
      ]
    },
    {
      "cell_type": "markdown",
      "metadata": {
        "id": "jHpPGuV1aN7p"
      },
      "source": [
        "Para acessar o elemento no dicionário:"
      ]
    },
    {
      "cell_type": "code",
      "execution_count": null,
      "metadata": {
        "colab": {
          "base_uri": "https://localhost:8080/"
        },
        "id": "5Iys0MWVaQ-l",
        "outputId": "66676ee4-a6d4-4e16-97b3-3ee8866cbe6e"
      },
      "outputs": [
        {
          "data": {
            "text/plain": [
              "4"
            ]
          },
          "execution_count": 9,
          "metadata": {},
          "output_type": "execute_result"
        }
      ],
      "source": [
        "dicionario[\"b\"]"
      ]
    },
    {
      "cell_type": "markdown",
      "metadata": {
        "id": "GXCAMgpNaVrq"
      },
      "source": [
        "Para entender melhor, vamos olhar para nosso problema gerador!\n",
        "\n",
        "Imagine que você queira criar um cadastro, com três pessoas, que contenhas as seguintes informações: nome, idade e cidade.\n",
        "\n",
        "Podemos fazer uma lista de lista!\n"
      ]
    },
    {
      "cell_type": "code",
      "execution_count": null,
      "metadata": {
        "colab": {
          "base_uri": "https://localhost:8080/"
        },
        "id": "uGJvKrZUbN1V",
        "outputId": "9438d39c-5d76-4430-b25f-5d53d592c839"
      },
      "outputs": [
        {
          "name": "stdout",
          "output_type": "stream",
          "text": [
            "[['Ana', 23, 'São Paulo'], ['Pedro', 55, 'Belo Horizonte'], ['Joana', 34, 'Salvador']]\n"
          ]
        }
      ],
      "source": [
        "cadastro = [['Ana', 23, 'São Paulo'],['Pedro', 55, 'Belo Horizonte'],['Joana', 34, 'Salvador']]\n",
        "print(cadastro)"
      ]
    },
    {
      "cell_type": "markdown",
      "metadata": {
        "id": "s2j8PgWMbnJV"
      },
      "source": [
        "Isso não é muito útil para um sistema com muitos dados!\n",
        "\n",
        "A melhor forma é usar a estrutura de dicionário para este tipo de problema."
      ]
    },
    {
      "cell_type": "code",
      "execution_count": null,
      "metadata": {
        "colab": {
          "base_uri": "https://localhost:8080/"
        },
        "id": "TQPE8kU0cB-7",
        "outputId": "4bde1f78-adab-4818-b103-874a86be0f0e"
      },
      "outputs": [
        {
          "name": "stdout",
          "output_type": "stream",
          "text": [
            "{'nomes': ['Ana', 'Pedro', 'Joana'], 'idades': [23, 55, 34], 'cidades': ['SP', 'RJ', 'Salvador']}\n"
          ]
        }
      ],
      "source": [
        "dicionario_cadastro = {\"nomes\":['Ana', 'Pedro', 'Joana'], \"idades\":[23,55,34],\"cidades\":['SP', \"RJ\", \"Salvador\"]}\n",
        "print(dicionario_cadastro)"
      ]
    },
    {
      "cell_type": "markdown",
      "metadata": {
        "id": "xDY9xuCIcqVr"
      },
      "source": [
        "Assim, para acessar os nomes fazemos:"
      ]
    },
    {
      "cell_type": "code",
      "execution_count": null,
      "metadata": {
        "colab": {
          "base_uri": "https://localhost:8080/"
        },
        "id": "huC8HcKJcwos",
        "outputId": "19040737-d135-4f42-af3f-402a57051931"
      },
      "outputs": [
        {
          "data": {
            "text/plain": [
              "['Ana', 'Pedro', 'Joana']"
            ]
          },
          "execution_count": 14,
          "metadata": {},
          "output_type": "execute_result"
        }
      ],
      "source": [
        "dicionario_cadastro['nomes']"
      ]
    },
    {
      "cell_type": "markdown",
      "metadata": {
        "id": "1Yaui8vZc47I"
      },
      "source": [
        "Para adicionar dados em um dicionário, não precisa de uma função específica como nas listas!\n",
        "\n",
        "Basta definir a nova chave como uma variável, e atribuir um novo valor a ela:"
      ]
    },
    {
      "cell_type": "code",
      "execution_count": null,
      "metadata": {
        "colab": {
          "base_uri": "https://localhost:8080/"
        },
        "id": "3vaT1-eydN5d",
        "outputId": "a1a4a403-634c-4ff1-f45e-7bf2bcb1c63c"
      },
      "outputs": [
        {
          "name": "stdout",
          "output_type": "stream",
          "text": [
            "{'nomes': ['Ana', 'Pedro', 'Joana'], 'idades': [23, 55, 34], 'cidades': ['SP', 'RJ', 'Salvador'], 'alturas': [1.56, 1.8, 1.7]}\n"
          ]
        }
      ],
      "source": [
        "dicionario_cadastro['alturas'] = [1.56, 1.8, 1.7]\n",
        "print(dicionario_cadastro)"
      ]
    },
    {
      "cell_type": "markdown",
      "metadata": {
        "id": "rupDdLb1dwt1"
      },
      "source": [
        "Note, como o elemento criado é adicionado ao fim do dicionário!"
      ]
    },
    {
      "cell_type": "markdown",
      "metadata": {
        "id": "O-aUw2QAd4U0"
      },
      "source": [
        "Para apagar uma chave, usamos o .**pop('chave_a_ser_removida')**."
      ]
    },
    {
      "cell_type": "code",
      "execution_count": null,
      "metadata": {
        "colab": {
          "base_uri": "https://localhost:8080/"
        },
        "id": "ELWbyTZsd7-8",
        "outputId": "2a7fd082-e91f-4009-a6ef-e19376bb0f92"
      },
      "outputs": [
        {
          "name": "stdout",
          "output_type": "stream",
          "text": [
            "{'nomes': ['Ana', 'Pedro', 'Joana'], 'idades': [23, 55, 34], 'cidades': ['SP', 'RJ', 'Salvador']}\n"
          ]
        }
      ],
      "source": [
        "dicionario_cadastro.pop('alturas')\n",
        "print(dicionario_cadastro)\n",
        "\n",
        "# outra forma é usar o \"del\"\n",
        "# del dicionario_cadastro['alturas']"
      ]
    },
    {
      "cell_type": "markdown",
      "metadata": {
        "id": "JtcGGkWverdH"
      },
      "source": [
        "Alterar valores também é possível:"
      ]
    },
    {
      "cell_type": "code",
      "execution_count": null,
      "metadata": {
        "colab": {
          "base_uri": "https://localhost:8080/"
        },
        "id": "rgQ7Qon4evFM",
        "outputId": "a63143a7-407c-438a-ebb6-3eb7f59aae15"
      },
      "outputs": [
        {
          "name": "stdout",
          "output_type": "stream",
          "text": [
            "['SP', 'SAnta Catarina', 'Salvador']\n"
          ]
        }
      ],
      "source": [
        "dicionario_cadastro['cidades'][1] = 'SAnta Catarina'\n",
        "print(dicionario_cadastro['cidades'])"
      ]
    },
    {
      "cell_type": "markdown",
      "metadata": {
        "id": "UsmZGtJMfOWg"
      },
      "source": [
        "Os dicionários são iteráveis com o for!\n",
        "\n",
        "Ao fazer isso as chaver são percorridas. Porém a partir das chaves obtemos o valor!\n",
        "\n"
      ]
    },
    {
      "cell_type": "code",
      "execution_count": null,
      "metadata": {
        "colab": {
          "base_uri": "https://localhost:8080/"
        },
        "id": "w3z5X_DLf0N8",
        "outputId": "403e09a2-8604-40c8-c902-0d080576eb4e"
      },
      "outputs": [
        {
          "name": "stdout",
          "output_type": "stream",
          "text": [
            "nomes\n",
            "idades\n",
            "cidades\n"
          ]
        }
      ],
      "source": [
        "for elemento in dicionario_cadastro:\n",
        "  print(elemento)"
      ]
    },
    {
      "cell_type": "code",
      "execution_count": null,
      "metadata": {
        "colab": {
          "base_uri": "https://localhost:8080/"
        },
        "id": "nXijGRYzgIzH",
        "outputId": "e145a86c-8966-4d3c-8755-97987e6f79aa"
      },
      "outputs": [
        {
          "name": "stdout",
          "output_type": "stream",
          "text": [
            "['Ana', 'Pedro', 'Joana']\n",
            "[23, 55, 34]\n",
            "['SP', 'SAnta Catarina', 'Salvador']\n"
          ]
        }
      ],
      "source": [
        "for chave in dicionario_cadastro:\n",
        "  print(dicionario_cadastro[chave])"
      ]
    },
    {
      "cell_type": "code",
      "execution_count": null,
      "metadata": {
        "colab": {
          "base_uri": "https://localhost:8080/"
        },
        "id": "FSafikaKgT14",
        "outputId": "bbd0c9ea-8b7b-49d9-88dc-42887f6a7a6b"
      },
      "outputs": [
        {
          "name": "stdout",
          "output_type": "stream",
          "text": [
            "Joana\n",
            "34\n",
            "Salvador\n"
          ]
        }
      ],
      "source": [
        "for chave in dicionario_cadastro:\n",
        "  print(dicionario_cadastro[chave][2])"
      ]
    },
    {
      "cell_type": "markdown",
      "metadata": {
        "id": "aNRbMer0gX3l"
      },
      "source": [
        "Também é possível acessar apenas os valores do dicionário com o método **values()**."
      ]
    },
    {
      "cell_type": "code",
      "execution_count": null,
      "metadata": {
        "colab": {
          "base_uri": "https://localhost:8080/"
        },
        "id": "lAl1sTaTgo-p",
        "outputId": "a34a353b-327c-4c6f-da03-3b7fd5737071"
      },
      "outputs": [
        {
          "data": {
            "text/plain": [
              "dict_values([['Ana', 'Pedro', 'Joana'], [23, 55, 34], ['SP', 'SAnta Catarina', 'Salvador']])"
            ]
          },
          "execution_count": 23,
          "metadata": {},
          "output_type": "execute_result"
        }
      ],
      "source": [
        "dicionario_cadastro.values()"
      ]
    },
    {
      "cell_type": "markdown",
      "metadata": {
        "id": "PfXKRPXuiUDi"
      },
      "source": [
        "# 3) Conjuntos\n",
        "\n",
        "\n",
        "As principais características dessa estrutura são: **não são ordenadas**, **com elementos únicos** , **mutável (em termos de adição e remoção de elementos)** e **não indexável**!\n",
        "\n",
        "Os conjuntos são inicializados com chaves {} ⁉\n",
        "\n",
        "    conjunto = {1,2,4,5, 3.14, True}\n",
        "\n"
      ]
    },
    {
      "cell_type": "code",
      "execution_count": null,
      "metadata": {
        "colab": {
          "base_uri": "https://localhost:8080/"
        },
        "id": "d1XmjRkmjmou",
        "outputId": "458a1cdc-91fc-4a9b-e46f-4eaebeba0149"
      },
      "outputs": [
        {
          "name": "stdout",
          "output_type": "stream",
          "text": [
            "{3, 1, 2, 3.14}\n"
          ]
        }
      ],
      "source": [
        "conjunto = {1,2,3, 3.14, True}\n",
        "print(conjunto)"
      ]
    },
    {
      "cell_type": "markdown",
      "metadata": {
        "id": "buql1EADkL6h"
      },
      "source": [
        "Note, que os conjuntos não ficam ordenados!"
      ]
    },
    {
      "cell_type": "markdown",
      "metadata": {
        "id": "xkIcgtWAkT_o"
      },
      "source": [
        "Um conjunto é interável:"
      ]
    },
    {
      "cell_type": "code",
      "execution_count": null,
      "metadata": {
        "colab": {
          "base_uri": "https://localhost:8080/"
        },
        "id": "KEkBjLSUkV7c",
        "outputId": "43c48eca-1957-4105-fede-656ce82f7975"
      },
      "outputs": [
        {
          "name": "stdout",
          "output_type": "stream",
          "text": [
            "3\n",
            "1\n",
            "2\n",
            "3.14\n"
          ]
        }
      ],
      "source": [
        "for elemento in conjunto:\n",
        "  print(elemento)"
      ]
    },
    {
      "cell_type": "markdown",
      "metadata": {
        "id": "phJo0RpLka2x"
      },
      "source": [
        "Conjunto não é indexável:\n",
        "\n",
        "    conjunto[2] -> acesso do elemento no indice 2, se  fizer isso ocorre um erro.\n",
        "    Conjunto não é indexável"
      ]
    },
    {
      "cell_type": "markdown",
      "metadata": {
        "id": "I7XwT2SIkxuI"
      },
      "source": [
        "Podemos alterar um conjunto, ao adicionar e/ou remover um elemento."
      ]
    },
    {
      "cell_type": "code",
      "execution_count": null,
      "metadata": {
        "colab": {
          "base_uri": "https://localhost:8080/"
        },
        "id": "fFwQkrcukfOE",
        "outputId": "b67cccec-f915-4ee2-87cc-37b9ef452955"
      },
      "outputs": [
        {
          "name": "stdout",
          "output_type": "stream",
          "text": [
            "{1, 2, 3, 3.14, 15}\n"
          ]
        }
      ],
      "source": [
        "# para adicionar usa-se .add()\n",
        "\n",
        "conjunto.add(15)\n",
        "print(conjunto)"
      ]
    },
    {
      "cell_type": "code",
      "execution_count": null,
      "metadata": {
        "colab": {
          "base_uri": "https://localhost:8080/"
        },
        "id": "FZXR9YmkleKl",
        "outputId": "5e273751-2fe8-41b3-873e-628b841a37a0"
      },
      "outputs": [
        {
          "name": "stdout",
          "output_type": "stream",
          "text": [
            "{1, 2, 3, 15}\n"
          ]
        }
      ],
      "source": [
        "# para remover usa-se remove()\n",
        "\n",
        "conjunto.remove(3.14)\n",
        "print(conjunto)"
      ]
    },
    {
      "cell_type": "markdown",
      "metadata": {
        "id": "kdrohVjIltFi"
      },
      "source": [
        "No entanto, dado que um **conjunto não é indexável** não é possível alterar elementos!\n",
        "\n",
        "**Por fim, conjuntos armazenam elementos únicos de uma coleção!**\n",
        "\n",
        "Veja só:"
      ]
    },
    {
      "cell_type": "code",
      "execution_count": null,
      "metadata": {
        "colab": {
          "base_uri": "https://localhost:8080/"
        },
        "id": "9iAL88APmH2k",
        "outputId": "67f393ef-57aa-4fbf-f5b8-3d0cffd816a2"
      },
      "outputs": [
        {
          "data": {
            "text/plain": [
              "{3.14, 42, True, 'a'}"
            ]
          },
          "execution_count": 29,
          "metadata": {},
          "output_type": "execute_result"
        }
      ],
      "source": [
        "conjunto2 = {\"a\", True, 42, 3.14, \"a\", True, 42, 42, 42, \"a\"}\n",
        "\n",
        "conjunto2"
      ]
    },
    {
      "cell_type": "markdown",
      "metadata": {
        "id": "eFypCWzJmoJA"
      },
      "source": [
        "Isso pode ser útil, por exemplo, caso queiramos saber quais os elementos únicos de uma lista!\n",
        "\n",
        "Considere uma lista de notas em uma prova, numa turma com 40 alunos:"
      ]
    },
    {
      "cell_type": "code",
      "execution_count": null,
      "metadata": {
        "colab": {
          "base_uri": "https://localhost:8080/"
        },
        "id": "ox784BL_mqtD",
        "outputId": "7bde7d7e-79ad-46a1-bdec-2825d25d6394"
      },
      "outputs": [
        {
          "name": "stdout",
          "output_type": "stream",
          "text": [
            "[9, 0, 6, 6, 0, 8, 2, 0, 3, 9, 2, 3, 5, 4, 3, 9, 8, 5, 6, 2, 7, 3, 5, 5, 9, 6, 3, 7, 3, 9, 7, 2, 9, 5, 5, 4, 6, 6, 5, 5]\n"
          ]
        }
      ],
      "source": [
        "notas = [9, 0, 6, 6, 0, 8, 2, 0, 3, 9,\n",
        "         2, 3, 5, 4, 3, 9, 8, 5, 6, 2,\n",
        "         7, 3, 5, 5, 9, 6, 3, 7, 3, 9,\n",
        "         7, 2, 9, 5, 5, 4, 6, 6, 5, 5]\n",
        "print(notas)"
      ]
    },
    {
      "cell_type": "markdown",
      "metadata": {
        "id": "2sXGMeMPmxtl"
      },
      "source": [
        "Para sabermos quais as notas únicas, basta converter a lista para um conjunto, com o construtor **set():**"
      ]
    },
    {
      "cell_type": "code",
      "execution_count": null,
      "metadata": {
        "colab": {
          "base_uri": "https://localhost:8080/"
        },
        "id": "m9e33j0wm9W3",
        "outputId": "1bb543fb-8e77-4601-ca72-a2739ec4f4f9"
      },
      "outputs": [
        {
          "data": {
            "text/plain": [
              "{0, 2, 3, 4, 5, 6, 7, 8, 9}"
            ]
          },
          "execution_count": 31,
          "metadata": {},
          "output_type": "execute_result"
        }
      ],
      "source": [
        "set(notas)"
      ]
    },
    {
      "cell_type": "code",
      "execution_count": null,
      "metadata": {
        "colab": {
          "base_uri": "https://localhost:8080/"
        },
        "id": "9tPeSdLwm_Wj",
        "outputId": "c6bb8b56-10bc-46ac-be9e-dc7425e843d9"
      },
      "outputs": [
        {
          "data": {
            "text/plain": [
              "[0, 2, 3, 4, 5, 6, 7, 8, 9]"
            ]
          },
          "execution_count": 32,
          "metadata": {},
          "output_type": "execute_result"
        }
      ],
      "source": [
        "list(set(notas))"
      ]
    },
    {
      "cell_type": "markdown",
      "metadata": {
        "id": "ju9xaxpXnBXZ"
      },
      "source": [
        "Há, ainda, outras utilidades de conjuntos, que é o que de fato faz com que esta estrutura de dados receba este nome: ela se comporta como os conjuntos matemáticos, o que faz com que seja possível determinarmos a intersecção, união, diferença, etc., entre conjuntos de valores!\n",
        "\n",
        "Considere duas listas, que compartilham alguns elementos:"
      ]
    },
    {
      "cell_type": "code",
      "execution_count": null,
      "metadata": {
        "id": "3KFWMPOznEVz"
      },
      "outputs": [],
      "source": [
        "l1 = [\"ada\", \"python\", \"dados\", 2, 4]\n",
        "l2 = [\"web\", \"python\", \"devops\", 42, 4]"
      ]
    },
    {
      "cell_type": "markdown",
      "metadata": {
        "id": "89RkdPfpnGp1"
      },
      "source": [
        "Quais os elementos comuns às duas listas?"
      ]
    },
    {
      "cell_type": "code",
      "execution_count": null,
      "metadata": {
        "id": "LD6IHCH1nLD1"
      },
      "outputs": [],
      "source": [
        "pooxset(l1).intersection(set(l2))"
      ]
    },
    {
      "cell_type": "markdown",
      "metadata": {
        "id": "vWvp0uWJnSKD"
      },
      "source": [
        "Qual a união das listas (sem repetir elementos)?"
      ]
    },
    {
      "cell_type": "code",
      "execution_count": null,
      "metadata": {
        "id": "j487xMGHnNb9"
      },
      "outputs": [],
      "source": [
        "set(l1).union(set(l2))"
      ]
    },
    {
      "cell_type": "markdown",
      "metadata": {
        "id": "zVIxa6SOnU5r"
      },
      "source": [
        "\n",
        "Qual a diferença entre as listas (isto é, elementos que existem em uma lista e não na outra?)"
      ]
    },
    {
      "cell_type": "code",
      "execution_count": null,
      "metadata": {
        "id": "8h3YJV9gnXCv"
      },
      "outputs": [],
      "source": [
        "set(l1).difference(set(l2))"
      ]
    },
    {
      "cell_type": "code",
      "execution_count": null,
      "metadata": {
        "id": "Y_11QxfPnZm_"
      },
      "outputs": [],
      "source": [
        "set(l2).difference(set(l1))"
      ]
    },
    {
      "cell_type": "code",
      "execution_count": null,
      "metadata": {
        "id": "hI7QWN2vncSO"
      },
      "outputs": [],
      "source": [
        "set(l2) - set(l1)"
      ]
    },
    {
      "cell_type": "markdown",
      "metadata": {
        "id": "Xwr-ENB_ne_I"
      },
      "source": [
        "Essas operações são todas muito úteis quando estamos trabalhando com dados!\n",
        "\n",
        "E é isso, agora você conhece as 4 **estruturas de dados** nativas do Python, utilizadas para armazenar coleções de valores: listas, tuplas, dicionários e conjuntos. Muito bem!  "
      ]
    },
    {
      "cell_type": "code",
      "execution_count": null,
      "metadata": {
        "colab": {
          "background_save": true
        },
        "id": "jgl_PQsGopXc",
        "outputId": "4cce4f4a-315c-423f-d8f3-e2ecc2568583"
      },
      "outputs": [
        {
          "data": {
            "text/plain": [
              "1"
            ]
          },
          "execution_count": 35,
          "metadata": {},
          "output_type": "execute_result"
        }
      ],
      "source": [
        "num_1, num_2, num_3 =  (1,2,3)\n"
      ]
    }
  ],
  "metadata": {
    "colab": {
      "toc_visible": true,
      "provenance": [],
      "authorship_tag": "ABX9TyPphdqivPJurjbghvQ5hVOj",
      "include_colab_link": true
    },
    "kernelspec": {
      "display_name": "Python 3",
      "name": "python3"
    },
    "language_info": {
      "name": "python"
    }
  },
  "nbformat": 4,
  "nbformat_minor": 0
}