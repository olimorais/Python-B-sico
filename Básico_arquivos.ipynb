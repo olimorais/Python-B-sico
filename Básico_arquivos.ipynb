{
  "nbformat": 4,
  "nbformat_minor": 0,
  "metadata": {
    "colab": {
      "provenance": [],
      "authorship_tag": "ABX9TyPgyFDzJYzaYEwFOHP2JbnI",
      "include_colab_link": true
    },
    "kernelspec": {
      "name": "python3",
      "display_name": "Python 3"
    },
    "language_info": {
      "name": "python"
    }
  },
  "cells": [
    {
      "cell_type": "markdown",
      "metadata": {
        "id": "view-in-github",
        "colab_type": "text"
      },
      "source": [
        "<a href=\"https://colab.research.google.com/github/olimorais/Python-B-sico/blob/main/B%C3%A1sico_arquivos.ipynb\" target=\"_parent\"><img src=\"https://colab.research.google.com/assets/colab-badge.svg\" alt=\"Open In Colab\"/></a>"
      ]
    },
    {
      "cell_type": "code",
      "execution_count": null,
      "metadata": {
        "id": "3Hj11sNW_Cm3"
      },
      "outputs": [],
      "source": []
    },
    {
      "cell_type": "markdown",
      "source": [
        "# Arquivos em Python\n",
        "\n",
        "O objetivo aqui é explorar os seguintes tópicos em python:\n",
        "\n",
        "* Arquivos em python.\n",
        "* Arquivos csv.\n",
        "\n",
        "---\n",
        "Problema Gerador: como podemos processar um arquivo com as notas de todos os alunos?\n"
      ],
      "metadata": {
        "id": "iLXvUGPa_GcW"
      }
    },
    {
      "cell_type": "markdown",
      "source": [
        "# 1) Arquivos em Python\n",
        "\n",
        "Todos os programas que fizemos até o momento tinham variáveis, input e output **temporários**, guardados na memória RAM do computador **enquanto o programa é executado**.\n",
        "\n",
        "Após o programa ser finalizado, todas as variáveis, inputs e outputs eram perdidos.\n",
        "\n",
        "Muitas vezes queremos que esses valores sejam armazenados, que os dados processados pelo programa sejam preservados. O termo para esta característica é **persistência de dados**.\n",
        "\n",
        "A persistência se dá através de **arquivos**: documentos criados para **armazenar dados em uma memória permanente**, como o **disco rígido**, um **USB** ou um **servidor web**.\n",
        "\n",
        "O python tem algumas funções padrão para manipulação de arquivos. Vamos vê-las!"
      ],
      "metadata": {
        "id": "KAyLUObrBF32"
      }
    },
    {
      "cell_type": "markdown",
      "source": [
        "A função `open()` é usada pra abrir arquivos existentes ou criar um arquivo novo.\n",
        "\n",
        "Ela possui 2 argumentos: o primeiro é o caminho do arquivo, com seu nome (se apenas o nome do arquivo for passado, isso é interpretado como o arquivo estando na mesma pasta que o código!); e o segundo é o modo de operação. Os modos são:\n",
        "\n",
        "- r -\tlê um arquivo existente\n",
        "- w -\tcria um novo arquivo\n",
        "- a -\tabre um arquivo existente para adicionar informações ao seu final\n",
        "- \\+ -\tao ser combinado com outros modos, permite alteração de arquivo já existente (ex: r+ abre um arquivo existente e permite modificá-lo)\n",
        "\n",
        "O terceiro argumento é o \"encoding\", que dá a codificação do arquivo. Pra evitar problemas, é legal sempre usar `encoding=\"utf-8\"` ."
      ],
      "metadata": {
        "id": "qdbdAiNABk1w"
      }
    },
    {
      "cell_type": "code",
      "source": [
        "arquivo = open(\"ola_mundo.txt\", \"w\", encoding=\"utf-8\")"
      ],
      "metadata": {
        "id": "fguzw_GKB6iF"
      },
      "execution_count": null,
      "outputs": []
    },
    {
      "cell_type": "markdown",
      "source": [
        "Se analisarmos a variável \"arquivo\" (é o return da função open()), note que há algumas coisas estranhas... É assim que o python entende seu arquivo, mas não precisa se preocupar muito com isso."
      ],
      "metadata": {
        "id": "Us5VzNf6B2HN"
      }
    },
    {
      "cell_type": "code",
      "source": [
        "arquivo"
      ],
      "metadata": {
        "colab": {
          "base_uri": "https://localhost:8080/"
        },
        "id": "sgyURh-MCdYP",
        "outputId": "c86f1577-a8f4-4f24-91a6-02c52d3b1e95"
      },
      "execution_count": null,
      "outputs": [
        {
          "output_type": "execute_result",
          "data": {
            "text/plain": [
              "<_io.TextIOWrapper name='ola_mundo.txt' mode='w' encoding='utf-8'>"
            ]
          },
          "metadata": {},
          "execution_count": 2
        }
      ]
    },
    {
      "cell_type": "markdown",
      "source": [
        "Uma vez aberto o arquivo, podemos escrever alguma coisa nele. Para isso, usamos o método `write()`.\n",
        "\n",
        "Essa função aceita apenas um argumento, que é o que vc quer escrever no arquivo -- e **deve ser uma string**!"
      ],
      "metadata": {
        "id": "FL8Jd9hmCiNQ"
      }
    },
    {
      "cell_type": "code",
      "source": [
        "arquivo.write(\"olá mundo!\")"
      ],
      "metadata": {
        "colab": {
          "base_uri": "https://localhost:8080/"
        },
        "id": "IAyan3ANCm4f",
        "outputId": "c50e17ab-3d71-4154-a083-89ca4f456266"
      },
      "execution_count": null,
      "outputs": [
        {
          "output_type": "execute_result",
          "data": {
            "text/plain": [
              "10"
            ]
          },
          "metadata": {},
          "execution_count": 3
        }
      ]
    },
    {
      "cell_type": "markdown",
      "source": [
        "Após abrirmos (ou criarmos) um arquivo, e fazer as operações desejadas com ele, devemos fechá-lo usando o método `close()`. Essa etapa é importante por 2 motivos:\n",
        "\n",
        "- Se alteramos o arquivo mas não o fechamos, as alterações não serão salvas.\n",
        "- Se esquecermos de fechar um arquivo, outros programas podem ter problemas de acesso a ele.\n",
        "\n",
        "Por isso, **nunca se esqueca de fechar os arquivos abertos!**"
      ],
      "metadata": {
        "id": "GQmw76e_CvZ5"
      }
    },
    {
      "cell_type": "code",
      "source": [
        "arquivo.close()"
      ],
      "metadata": {
        "id": "l_lW0re3CvGx"
      },
      "execution_count": null,
      "outputs": []
    },
    {
      "cell_type": "markdown",
      "source": [
        "__Fazendo todas as operações em uma única célula__"
      ],
      "metadata": {
        "id": "NFdcN6nFC6Nf"
      }
    },
    {
      "cell_type": "code",
      "source": [
        "f = open(\"ola_mundo2.txt\", \"w\", encoding=\"utf-8\")\n",
        "\n",
        "f.write(\"olá, mundo!\\nEsse é meu segundo arquivo!\")\n",
        "\n",
        "f.close()"
      ],
      "metadata": {
        "id": "VOXQWKt_C9SD"
      },
      "execution_count": null,
      "outputs": []
    },
    {
      "cell_type": "markdown",
      "source": [
        "Apesar desta ser uma forma clara e direta, existe um procedimento mais robusto e mais seguro, que é utilizando o ambiente `with`.\n",
        "\n",
        "O `with` garante que, quando o bloco de código em seu interior for executado, todos os recursos que foram criados (indicados após o `as`) serão liberados!\n",
        "\n",
        "No nosso caso, o recurso é justamente um arquivo! Com o `with`, nós garantimos que **o arquivo será aberto e fechado**, independente se ocorra qualquer erro antes do arquivo ser fechado! Isso é muito importante, pois garante maior segurança e robustez a nosso código!"
      ],
      "metadata": {
        "id": "Zhu2-GGiDAKT"
      }
    },
    {
      "cell_type": "code",
      "source": [
        "with open(\"ola_mundo3.txt\", \"w\", encoding=\"utf-8\") as f:\n",
        "\n",
        "    f.write(\"olá, mundo!\\nEsse é meu segundo arquivo!\\né UM TERCEIRO ARQUIVO, usansdo o with!\")"
      ],
      "metadata": {
        "id": "ebENECOFDOh5"
      },
      "execution_count": null,
      "outputs": []
    },
    {
      "cell_type": "markdown",
      "source": [
        "Como essa maneira é mais robusta, vamos usá-la daqui pra frente. (Mas, lembre-se que a opção que apresentamos primeiro também é possível!)"
      ],
      "metadata": {
        "id": "oEAGaivODU83"
      }
    },
    {
      "cell_type": "markdown",
      "source": [
        "Vamos escrever mais algumas coisas no nosso arquivo...\n",
        "\n",
        "Como o arquivo já existe, vamos tentar usar o modo \"r\"..."
      ],
      "metadata": {
        "id": "n0W1M7soDZID"
      }
    },
    {
      "cell_type": "code",
      "source": [
        "with open(\"ola_mundo.txt\", \"r\", encoding=\"utf-8\") as f:\n",
        "\n",
        "    f.write(\"escrevendo algo novo!\")"
      ],
      "metadata": {
        "colab": {
          "base_uri": "https://localhost:8080/",
          "height": 210
        },
        "id": "wz3uUdrcDdU_",
        "outputId": "7629bb56-8e2e-4ade-ccef-7667784754c9"
      },
      "execution_count": null,
      "outputs": [
        {
          "output_type": "error",
          "ename": "UnsupportedOperation",
          "evalue": "ignored",
          "traceback": [
            "\u001b[0;31m---------------------------------------------------------------------------\u001b[0m",
            "\u001b[0;31mUnsupportedOperation\u001b[0m                      Traceback (most recent call last)",
            "\u001b[0;32m<ipython-input-7-f6e90ea998b2>\u001b[0m in \u001b[0;36m<cell line: 1>\u001b[0;34m()\u001b[0m\n\u001b[1;32m      1\u001b[0m \u001b[0;32mwith\u001b[0m \u001b[0mopen\u001b[0m\u001b[0;34m(\u001b[0m\u001b[0;34m\"ola_mundo.txt\"\u001b[0m\u001b[0;34m,\u001b[0m \u001b[0;34m\"r\"\u001b[0m\u001b[0;34m,\u001b[0m \u001b[0mencoding\u001b[0m\u001b[0;34m=\u001b[0m\u001b[0;34m\"utf-8\"\u001b[0m\u001b[0;34m)\u001b[0m \u001b[0;32mas\u001b[0m \u001b[0mf\u001b[0m\u001b[0;34m:\u001b[0m\u001b[0;34m\u001b[0m\u001b[0;34m\u001b[0m\u001b[0m\n\u001b[1;32m      2\u001b[0m \u001b[0;34m\u001b[0m\u001b[0m\n\u001b[0;32m----> 3\u001b[0;31m     \u001b[0mf\u001b[0m\u001b[0;34m.\u001b[0m\u001b[0mwrite\u001b[0m\u001b[0;34m(\u001b[0m\u001b[0;34m\"escrevendo algo novo!\"\u001b[0m\u001b[0;34m)\u001b[0m\u001b[0;34m\u001b[0m\u001b[0;34m\u001b[0m\u001b[0m\n\u001b[0m",
            "\u001b[0;31mUnsupportedOperation\u001b[0m: not writable"
          ]
        }
      ]
    },
    {
      "cell_type": "markdown",
      "source": [
        "Note que encontramos um erro, pois o modo \"r\" permite **apenas a leitura do arquivo**\n",
        "\n",
        "Se queremos escrever algo nele, usamos o \"r+\""
      ],
      "metadata": {
        "id": "yoihRPpqDiix"
      }
    },
    {
      "cell_type": "code",
      "source": [
        "with open(\"ola_mundo.txt\", \"r+\", encoding=\"utf-8\") as f:\n",
        "\n",
        "    f.write(\"escrevendo algo novo!\")"
      ],
      "metadata": {
        "id": "M4hLHrCNDlMt"
      },
      "execution_count": null,
      "outputs": []
    },
    {
      "cell_type": "code",
      "source": [
        "with open(\"ola_mundo.txt\", \"r+\", encoding=\"utf-8\") as f:\n",
        "\n",
        "    f.write(\"ada!!\")"
      ],
      "metadata": {
        "id": "z-eGSPD4Dn0B"
      },
      "execution_count": null,
      "outputs": []
    },
    {
      "cell_type": "markdown",
      "source": [
        "Note, no entanto, que se usarmos o modo \"r+\", o write substitui o conteúdo anterior da primeira linha do arquivo! Isso pq este modo equivale a colocar o cursor **no começo do arquivo** e escrever a partir dali (como se tivese com o `Insert` selecionado)."
      ],
      "metadata": {
        "id": "CrpsW2uADrpI"
      }
    },
    {
      "cell_type": "markdown",
      "source": [
        "Prra corrigir isso, usamos o modo \"a\", que permite escrever AO FIM do arquivo. Isso equivale a colocar o cursor no último caractere escrito, e começar a escrever a partir dali!"
      ],
      "metadata": {
        "id": "RvZCZT9nDuyx"
      }
    },
    {
      "cell_type": "code",
      "source": [
        "with open(\"ola_mundo.txt\", \"a\", encoding=\"utf-8\") as f:\n",
        "\n",
        "    f.write(\"escrevendo algo no fim!\")"
      ],
      "metadata": {
        "id": "p_1yQlZdDzFU"
      },
      "execution_count": null,
      "outputs": []
    },
    {
      "cell_type": "markdown",
      "source": [
        "Se quisermos escrever em uma nova linha, usamos o \"\\n\":"
      ],
      "metadata": {
        "id": "66SxASp-D4Vq"
      }
    },
    {
      "cell_type": "code",
      "source": [
        "with open(\"ola_mundo.txt\", \"a\", encoding=\"utf-8\") as f:\n",
        "\n",
        "    f.write(\"\\nisso vai na próxima linha!\")"
      ],
      "metadata": {
        "id": "rV_sWDJuD1Sh"
      },
      "execution_count": null,
      "outputs": []
    },
    {
      "cell_type": "markdown",
      "source": [
        "Caso queiramos escrever uma lista no arquivo:"
      ],
      "metadata": {
        "id": "6YxekP9UD8I5"
      }
    },
    {
      "cell_type": "code",
      "source": [
        "lista = [\"ada\", \"python\", \"data science\", 1, 42.4, True, [\"a\", \"b\", \"c\"]]\n",
        "\n",
        "with open(\"ola_mundo.txt\", \"a\", encoding=\"utf-8\") as f:\n",
        "\n",
        "    for elemento in lista:\n",
        "\n",
        "        f.write(f\"\\n{elemento}\")"
      ],
      "metadata": {
        "id": "hODm8LHQEAj3"
      },
      "execution_count": null,
      "outputs": []
    },
    {
      "cell_type": "markdown",
      "source": [
        "O método write() pode apenas escrever strings ao arquivo!!"
      ],
      "metadata": {
        "id": "VO5NiQX7EEC-"
      }
    },
    {
      "cell_type": "code",
      "source": [
        "lista = [\"ada\", \"python\", \"data science\"]\n",
        "\n",
        "with open(\"ola_mundo.txt\", \"a\", encoding=\"utf-8\") as f:\n",
        "\n",
        "    f.write(lista)"
      ],
      "metadata": {
        "colab": {
          "base_uri": "https://localhost:8080/",
          "height": 210
        },
        "id": "fmB1IdwmEHuJ",
        "outputId": "41260e28-77ec-42c1-8426-0e1588c394ff"
      },
      "execution_count": null,
      "outputs": [
        {
          "output_type": "error",
          "ename": "TypeError",
          "evalue": "ignored",
          "traceback": [
            "\u001b[0;31m---------------------------------------------------------------------------\u001b[0m",
            "\u001b[0;31mTypeError\u001b[0m                                 Traceback (most recent call last)",
            "\u001b[0;32m<ipython-input-13-6f2964c84e68>\u001b[0m in \u001b[0;36m<cell line: 3>\u001b[0;34m()\u001b[0m\n\u001b[1;32m      3\u001b[0m \u001b[0;32mwith\u001b[0m \u001b[0mopen\u001b[0m\u001b[0;34m(\u001b[0m\u001b[0;34m\"ola_mundo.txt\"\u001b[0m\u001b[0;34m,\u001b[0m \u001b[0;34m\"a\"\u001b[0m\u001b[0;34m,\u001b[0m \u001b[0mencoding\u001b[0m\u001b[0;34m=\u001b[0m\u001b[0;34m\"utf-8\"\u001b[0m\u001b[0;34m)\u001b[0m \u001b[0;32mas\u001b[0m \u001b[0mf\u001b[0m\u001b[0;34m:\u001b[0m\u001b[0;34m\u001b[0m\u001b[0;34m\u001b[0m\u001b[0m\n\u001b[1;32m      4\u001b[0m \u001b[0;34m\u001b[0m\u001b[0m\n\u001b[0;32m----> 5\u001b[0;31m     \u001b[0mf\u001b[0m\u001b[0;34m.\u001b[0m\u001b[0mwrite\u001b[0m\u001b[0;34m(\u001b[0m\u001b[0mlista\u001b[0m\u001b[0;34m)\u001b[0m\u001b[0;34m\u001b[0m\u001b[0;34m\u001b[0m\u001b[0m\n\u001b[0m",
            "\u001b[0;31mTypeError\u001b[0m: write() argument must be str, not list"
          ]
        }
      ]
    },
    {
      "cell_type": "markdown",
      "source": [
        "________\n",
        "\n",
        "Agora, imagina que queremos apenas **ler** o arquivo, sem intenção de modificá-lo.\n",
        "\n",
        "Nesse caso, utilizamos o modo \"r\" do open.\n",
        "\n",
        "Além disso, se quisermos de fato armazenar os dados do arquivo em uma variável do python, usamos o método `read()`."
      ],
      "metadata": {
        "id": "_9pV-OHdEKSz"
      }
    },
    {
      "cell_type": "markdown",
      "source": [
        "Da mesma forma que o `write()` só pode escrever strings, o `read()` lê o arquivo como uma string! Veja:"
      ],
      "metadata": {
        "id": "pWY6F7_pERlg"
      }
    },
    {
      "cell_type": "code",
      "source": [
        "with open(\"ola_mundo.txt\", \"r\", encoding=\"utf-8\") as f:\n",
        "\n",
        "    conteudo = f.read()"
      ],
      "metadata": {
        "id": "iOxz4cMIEOv3"
      },
      "execution_count": null,
      "outputs": []
    },
    {
      "cell_type": "code",
      "source": [
        "conteudo"
      ],
      "metadata": {
        "colab": {
          "base_uri": "https://localhost:8080/",
          "height": 35
        },
        "id": "1Y4PgzJBEVVd",
        "outputId": "e90cf924-1b29-4452-d439-e89346f475d0"
      },
      "execution_count": null,
      "outputs": [
        {
          "output_type": "execute_result",
          "data": {
            "text/plain": [
              "\"ada!!vendo algo novo!escrevendo algo no fim!\\nisso vai na próxima linha!\\nada\\npython\\ndata science\\n1\\n42.4\\nTrue\\n['a', 'b', 'c']\""
            ],
            "application/vnd.google.colaboratory.intrinsic+json": {
              "type": "string"
            }
          },
          "metadata": {},
          "execution_count": 15
        }
      ]
    },
    {
      "cell_type": "code",
      "source": [
        "print(conteudo)"
      ],
      "metadata": {
        "colab": {
          "base_uri": "https://localhost:8080/"
        },
        "id": "7YEr17LCEaWA",
        "outputId": "5772681c-5ca5-4f27-fdfd-7add8c8b7bee"
      },
      "execution_count": null,
      "outputs": [
        {
          "output_type": "stream",
          "name": "stdout",
          "text": [
            "ada!!vendo algo novo!escrevendo algo no fim!\n",
            "isso vai na próxima linha!\n",
            "ada\n",
            "python\n",
            "data science\n",
            "1\n",
            "42.4\n",
            "True\n",
            "['a', 'b', 'c']\n"
          ]
        }
      ]
    },
    {
      "cell_type": "markdown",
      "source": [
        "Como o `read()` lê o que estiver no arquivo em forma de uma string, temos que as quebras de linha serão, portanto, armazenadas como \"\\n\".\n",
        "\n",
        "A partir daí, dá pra pegar cada linha e colocar numa lista:"
      ],
      "metadata": {
        "id": "o9YNuyqBEY2P"
      }
    },
    {
      "cell_type": "code",
      "source": [
        "lista_conteudo = conteudo.split(\"\\n\")"
      ],
      "metadata": {
        "id": "NxcH7rikEgFz"
      },
      "execution_count": null,
      "outputs": []
    },
    {
      "cell_type": "code",
      "source": [
        "lista_conteudo"
      ],
      "metadata": {
        "colab": {
          "base_uri": "https://localhost:8080/"
        },
        "id": "014QOOKlEidn",
        "outputId": "005eb446-fde0-43ad-86c9-8d3c6686ecf2"
      },
      "execution_count": null,
      "outputs": [
        {
          "output_type": "execute_result",
          "data": {
            "text/plain": [
              "['ada!!vendo algo novo!escrevendo algo no fim!',\n",
              " 'isso vai na próxima linha!',\n",
              " 'ada',\n",
              " 'python',\n",
              " 'data science',\n",
              " '1',\n",
              " '42.4',\n",
              " 'True',\n",
              " \"['a', 'b', 'c']\"]"
            ]
          },
          "metadata": {},
          "execution_count": 18
        }
      ]
    },
    {
      "cell_type": "code",
      "source": [
        "float(lista_conteudo[-3])"
      ],
      "metadata": {
        "colab": {
          "base_uri": "https://localhost:8080/"
        },
        "id": "sPL-TLlNEnJn",
        "outputId": "030358b8-83e7-4e8c-ef62-32ab11998ea9"
      },
      "execution_count": null,
      "outputs": [
        {
          "output_type": "execute_result",
          "data": {
            "text/plain": [
              "42.4"
            ]
          },
          "metadata": {},
          "execution_count": 19
        }
      ]
    },
    {
      "cell_type": "markdown",
      "source": [
        "Vamos para um outro exemplo... Imagine que eu quero armazenar uma lista, para depois lê-la novamente. Como faço isso?\n",
        "\n",
        "Lembre-se que só é possível escrever **strings** com o `write()`!"
      ],
      "metadata": {
        "id": "GQ2zqFQEEk1L"
      }
    },
    {
      "cell_type": "code",
      "source": [
        "notas = [8, 9, 8.5, 10, 10, 6, 7.5, 8.8]\n",
        "\n",
        "with open(\"notas.txt\", \"w\", encoding=\"utf-8\") as f:\n",
        "\n",
        "    f.write(f\"{notas[0]}\")\n",
        "\n",
        "    for elemento in notas[1:]:\n",
        "\n",
        "        f.write(f\"\\n{elemento}\")"
      ],
      "metadata": {
        "id": "CEVQ6wNcEuCO"
      },
      "execution_count": null,
      "outputs": []
    },
    {
      "cell_type": "markdown",
      "source": [
        "Agora, pra ler o arquivo, e já calcular a média das notas armazenadas - mas, pra isso, teremos que converter os dados!"
      ],
      "metadata": {
        "id": "HDZd5mX-ExGR"
      }
    },
    {
      "cell_type": "code",
      "source": [
        "with open(\"notas.txt\", \"r\", encoding=\"utf-8\") as f:\n",
        "\n",
        "    conteudo = f.read()"
      ],
      "metadata": {
        "id": "PCzalCZMEzr5"
      },
      "execution_count": null,
      "outputs": []
    },
    {
      "cell_type": "code",
      "source": [
        "notas_lidas = conteudo.split(\"\\n\")\n",
        "\n",
        "notas_lidas"
      ],
      "metadata": {
        "colab": {
          "base_uri": "https://localhost:8080/"
        },
        "id": "ckZOJk9_E2AG",
        "outputId": "161b5e1f-cd07-4d46-ace9-8ae4f65e3bf0"
      },
      "execution_count": null,
      "outputs": [
        {
          "output_type": "execute_result",
          "data": {
            "text/plain": [
              "['8', '9', '8.5', '10', '10', '6', '7.5', '8.8']"
            ]
          },
          "metadata": {},
          "execution_count": 22
        }
      ]
    },
    {
      "cell_type": "code",
      "source": [
        "notas_lidas_float = []\n",
        "\n",
        "for elemento in notas_lidas:\n",
        "\n",
        "    notas_lidas_float.append(float(elemento))\n",
        "\n",
        "notas_lidas_float"
      ],
      "metadata": {
        "colab": {
          "base_uri": "https://localhost:8080/"
        },
        "id": "S3h6hvyJE6U4",
        "outputId": "e95469c7-cf2e-4b79-d970-b3ffb0fdcd55"
      },
      "execution_count": null,
      "outputs": [
        {
          "output_type": "execute_result",
          "data": {
            "text/plain": [
              "[8.0, 9.0, 8.5, 10.0, 10.0, 6.0, 7.5, 8.8]"
            ]
          },
          "metadata": {},
          "execution_count": 23
        }
      ]
    },
    {
      "cell_type": "code",
      "source": [
        "notas_lidas_float = [float(elemento) for elemento in notas_lidas]\n",
        "\n",
        "notas_lidas_float"
      ],
      "metadata": {
        "colab": {
          "base_uri": "https://localhost:8080/"
        },
        "id": "qZnzF3D9E8yc",
        "outputId": "db3efdc0-e410-4c37-e9a2-6453a0c4b248"
      },
      "execution_count": null,
      "outputs": [
        {
          "output_type": "execute_result",
          "data": {
            "text/plain": [
              "[8.0, 9.0, 8.5, 10.0, 10.0, 6.0, 7.5, 8.8]"
            ]
          },
          "metadata": {},
          "execution_count": 24
        }
      ]
    },
    {
      "cell_type": "code",
      "source": [
        "sum(notas_lidas_float)/len(notas_lidas_float)"
      ],
      "metadata": {
        "colab": {
          "base_uri": "https://localhost:8080/"
        },
        "id": "orN-IAqUE-aW",
        "outputId": "485bbecc-4427-4aac-a81d-a9ed22b91949"
      },
      "execution_count": null,
      "outputs": [
        {
          "output_type": "execute_result",
          "data": {
            "text/plain": [
              "8.475"
            ]
          },
          "metadata": {},
          "execution_count": 25
        }
      ]
    },
    {
      "cell_type": "markdown",
      "source": [
        "Apesar de termos tratado sobre as funções acima, existem **bibliotecas específicas** para a leitura/escrita de determinados tipos de arquivos.\n",
        "\n",
        "Na prática, é muito mais conveniente usarmos estas bibliotecas, a depender do tipo de arquivo que desejamos ler/escrever!"
      ],
      "metadata": {
        "id": "5kpYaM-PFCw7"
      }
    },
    {
      "cell_type": "markdown",
      "source": [
        "## 2) Arquivos CSV\n",
        "\n",
        "Um tipo de arquivo muito comum é o **csv**.\n",
        "\n",
        "A sigla CSV significa **Comma-Separated Values**, ou **\"valores separados por vírgula\"**.\n",
        "\n",
        "Este formato é uma forma padrão de representar tabelas usando arquivos de texto simples: cada elemento é separado por uma vírgula (ou ponto-e-vírgula, ou, qualquer outro separador), e cada linha é separada por uma quebra de linha"
      ],
      "metadata": {
        "id": "QuOytC6zFHDe"
      }
    },
    {
      "cell_type": "markdown",
      "source": [
        "Em Python, podemos entender um arquivo CSV como uma lista de listas.\n",
        "\n",
        "Imagine que queremos armazenar um arquivo csv. Começamos com uma lista de listas:"
      ],
      "metadata": {
        "id": "8RYhHqBaFNY-"
      }
    },
    {
      "cell_type": "code",
      "source": [
        "tabela = [['Aluno', 'Nota 1', 'Nota 2', ' Presença'],\n",
        "          ['Luke', 7, 9, 75],\n",
        "          ['Han', 4, 7, 100],\n",
        "          ['Leia', 9, 9, 50]]"
      ],
      "metadata": {
        "id": "slKP416GFQCA"
      },
      "execution_count": null,
      "outputs": []
    },
    {
      "cell_type": "code",
      "source": [
        "tabela"
      ],
      "metadata": {
        "colab": {
          "base_uri": "https://localhost:8080/"
        },
        "id": "Gu8EECiLFTkY",
        "outputId": "e6b10377-afca-46b2-a4ec-4074d82f1317"
      },
      "execution_count": null,
      "outputs": [
        {
          "output_type": "execute_result",
          "data": {
            "text/plain": [
              "[['Aluno', 'Nota 1', 'Nota 2', ' Presença'],\n",
              " ['Luke', 7, 9, 75],\n",
              " ['Han', 4, 7, 100],\n",
              " ['Leia', 9, 9, 50]]"
            ]
          },
          "metadata": {},
          "execution_count": 27
        }
      ]
    },
    {
      "cell_type": "markdown",
      "source": [
        "Pode não ser tão simples escrever esta lista de listas em um arquivo usando o método write(), como vimos antes, né?\n",
        "\n",
        "Para trabalhar com arquivos csv, vamos utilizar a biblioteca `csv` do python!\n",
        "\n",
        "Desta biblioteca, vamo usar duas funções:\n",
        "\n",
        "- **método de escrita**: `csv.writer().writerows()`\n",
        "\n",
        "- **método de leitura**: `csv.reader()`"
      ],
      "metadata": {
        "id": "ts82waIbFW58"
      }
    },
    {
      "cell_type": "code",
      "source": [
        "import csv"
      ],
      "metadata": {
        "id": "cRH0qs2iFdGo"
      },
      "execution_count": null,
      "outputs": []
    },
    {
      "cell_type": "markdown",
      "source": [
        "Como queremos escrer o arquivo, utilizamos o método writer da biblioteca csv, juntamente do método writerows para escrever a lista de listas ao arquivo:"
      ],
      "metadata": {
        "id": "0khS85nmFb7T"
      }
    },
    {
      "cell_type": "code",
      "source": [
        "with open(\"alunos_star_wars.csv\", \"w\", encoding=\"utf-8\") as f:\n",
        "\n",
        "    csv.writer(f, delimiter=\",\", lineterminator=\"\\n\").writerows(tabela)"
      ],
      "metadata": {
        "id": "viK-OlTsFhQl"
      },
      "execution_count": null,
      "outputs": []
    },
    {
      "cell_type": "markdown",
      "source": [
        "A primeira parte:\n",
        "\n",
        "```python\n",
        "csv.writer(arquivo, delimiter=';', lineterminator='\\n')\n",
        "```\n",
        "\n",
        "Indica:\n",
        "\n",
        "- em que arquivo você quer escrever\n",
        "- como que você vai separar os valores (neste caso, com \";\")\n",
        "- como vc vai separar as diferentes linhas do arquivo (neste caso, com \"\\n\")\n",
        "\n",
        "A segunda parte, indica quais os dados que você quer escrever no arquivo (no caso, a lista de listas \"tabela\"):\n",
        "\n",
        "```python\n",
        "writerows(tabela)\n",
        "```"
      ],
      "metadata": {
        "id": "XkI_yRdNFmrm"
      }
    },
    {
      "cell_type": "markdown",
      "source": [
        "E como lemos este arquivo?"
      ],
      "metadata": {
        "id": "6M4fLBhYFr3m"
      }
    },
    {
      "cell_type": "markdown",
      "source": [
        "Para isso, temos que utilizar a função `reader()` da biblioteca csv:\n",
        "\n",
        "```python\n",
        "csv.reader(f, delimiter=';', lineterminator='\\n')\n",
        "```\n",
        "\n",
        "Essa função tem como argumentos:\n",
        "\n",
        "- o arquivo aberto (no caso, a variável \"f\");\n",
        "- o separador entre os valores (no caso, \";\");\n",
        "- o separador de linhas (no caso, \"\\n\");\n",
        "\n",
        "Aí, basta iterar neste objeto com o for para popular a lista de listas \"tabela\":"
      ],
      "metadata": {
        "id": "r8Je21r2FxT8"
      }
    },
    {
      "cell_type": "code",
      "source": [
        "with open(\"alunos_star_wars.csv\", \"r\", encoding=\"utf-8\") as f:\n",
        "\n",
        "    primeira_linha = f.readline()"
      ],
      "metadata": {
        "id": "auexeDPwF1B-"
      },
      "execution_count": null,
      "outputs": []
    },
    {
      "cell_type": "code",
      "source": [
        "primeira_linha"
      ],
      "metadata": {
        "colab": {
          "base_uri": "https://localhost:8080/",
          "height": 35
        },
        "id": "FHCbGu4fF7y3",
        "outputId": "d8d1e226-5ef9-476a-b9bf-99801b821aca"
      },
      "execution_count": null,
      "outputs": [
        {
          "output_type": "execute_result",
          "data": {
            "text/plain": [
              "'Aluno,Nota 1,Nota 2, Presença\\n'"
            ],
            "application/vnd.google.colaboratory.intrinsic+json": {
              "type": "string"
            }
          },
          "metadata": {},
          "execution_count": 31
        }
      ]
    },
    {
      "cell_type": "code",
      "source": [
        "with open(\"alunos_star_wars.csv\", \"r\", encoding=\"utf-8\") as f:\n",
        "\n",
        "    tabela_lida = []\n",
        "\n",
        "    leitor = csv.reader(f, delimiter=\",\", lineterminator=\"\\n\")\n",
        "\n",
        "    for linha in leitor:\n",
        "\n",
        "        tabela_lida.append(linha)"
      ],
      "metadata": {
        "id": "ft0YRKXwF843"
      },
      "execution_count": null,
      "outputs": []
    },
    {
      "cell_type": "code",
      "source": [
        "tabela"
      ],
      "metadata": {
        "colab": {
          "base_uri": "https://localhost:8080/"
        },
        "id": "R81a0NiTF_Tx",
        "outputId": "3e62a181-b790-435f-fdf7-a7cc8eafd8fe"
      },
      "execution_count": null,
      "outputs": [
        {
          "output_type": "execute_result",
          "data": {
            "text/plain": [
              "[['Aluno', 'Nota 1', 'Nota 2', ' Presença'],\n",
              " ['Luke', 7, 9, 75],\n",
              " ['Han', 4, 7, 100],\n",
              " ['Leia', 9, 9, 50]]"
            ]
          },
          "metadata": {},
          "execution_count": 33
        }
      ]
    },
    {
      "cell_type": "code",
      "source": [
        "tabela_lida"
      ],
      "metadata": {
        "colab": {
          "base_uri": "https://localhost:8080/"
        },
        "id": "rE8OuYFTGB5X",
        "outputId": "660439fc-ac5f-49b7-c74f-6c885bf85cbd"
      },
      "execution_count": null,
      "outputs": [
        {
          "output_type": "execute_result",
          "data": {
            "text/plain": [
              "[['Aluno', 'Nota 1', 'Nota 2', ' Presença'],\n",
              " ['Luke', '7', '9', '75'],\n",
              " ['Han', '4', '7', '100'],\n",
              " ['Leia', '9', '9', '50']]"
            ]
          },
          "metadata": {},
          "execution_count": 34
        }
      ]
    },
    {
      "cell_type": "markdown",
      "source": [
        "Com compreensão de listas:"
      ],
      "metadata": {
        "id": "yTG3Zyt6GFFP"
      }
    },
    {
      "cell_type": "code",
      "source": [
        "with open(\"alunos_star_wars.csv\", \"r\", encoding=\"utf-8\") as f:\n",
        "\n",
        "    leitor = csv.reader(f, delimiter=\",\", lineterminator=\"\\n\")\n",
        "\n",
        "    tabela_lida = [linha for linha in leitor]\n",
        "\n",
        "tabela_lida"
      ],
      "metadata": {
        "colab": {
          "base_uri": "https://localhost:8080/"
        },
        "id": "Q0PXCrqnGHzC",
        "outputId": "95afdc1f-194a-4308-f225-a7aa5cae57e5"
      },
      "execution_count": null,
      "outputs": [
        {
          "output_type": "execute_result",
          "data": {
            "text/plain": [
              "[['Aluno', 'Nota 1', 'Nota 2', ' Presença'],\n",
              " ['Luke', '7', '9', '75'],\n",
              " ['Han', '4', '7', '100'],\n",
              " ['Leia', '9', '9', '50']]"
            ]
          },
          "metadata": {},
          "execution_count": 35
        }
      ]
    },
    {
      "cell_type": "code",
      "source": [
        "with open(\"alunos_star_wars.csv\", \"r\", encoding=\"utf-8\") as f:\n",
        "\n",
        "    tabela_lida = [linha for linha in csv.reader(f, delimiter=\",\", lineterminator=\"\\n\")]\n",
        "\n",
        "tabela_lida"
      ],
      "metadata": {
        "colab": {
          "base_uri": "https://localhost:8080/"
        },
        "id": "WI8MIe6vGL9R",
        "outputId": "5fafcdb1-9a19-4002-e772-5fdd62db2604"
      },
      "execution_count": null,
      "outputs": [
        {
          "output_type": "execute_result",
          "data": {
            "text/plain": [
              "[['Aluno', 'Nota 1', 'Nota 2', ' Presença'],\n",
              " ['Luke', '7', '9', '75'],\n",
              " ['Han', '4', '7', '100'],\n",
              " ['Leia', '9', '9', '50']]"
            ]
          },
          "metadata": {},
          "execution_count": 36
        }
      ]
    },
    {
      "cell_type": "markdown",
      "source": [
        "__Vamos agora processar esse arquivo que acabamos de ler?__\n",
        "\n",
        "Imagina que queremos calcular qual é a média de determinado aluno, a partir do seu nome!\n",
        "\n",
        "Pra fazer isso, usamos **list comprehension** pra fazer uma lista com os nomes dos alunos:"
      ],
      "metadata": {
        "id": "x50S7ZNEGPOQ"
      }
    },
    {
      "cell_type": "code",
      "source": [
        "lista_nome_alunos = [linha[0] for linha in tabela_lida]\n",
        "\n",
        "lista_nome_alunos"
      ],
      "metadata": {
        "colab": {
          "base_uri": "https://localhost:8080/"
        },
        "id": "vWI6py_rGRdK",
        "outputId": "8997ddc4-31e7-4bcc-df64-3f1b5b5f37e9"
      },
      "execution_count": null,
      "outputs": [
        {
          "output_type": "execute_result",
          "data": {
            "text/plain": [
              "['Aluno', 'Luke', 'Han', 'Leia']"
            ]
          },
          "metadata": {},
          "execution_count": 37
        }
      ]
    },
    {
      "cell_type": "markdown",
      "source": [
        "Aí, usamos a função index() pra descobrir qual é o índice nesta lista referente a determinado aluno.\n",
        "\n",
        "Por exemplo, o aluno \"Han\", está na posição de índice 2:"
      ],
      "metadata": {
        "id": "lgVl8kFIGWNb"
      }
    },
    {
      "cell_type": "code",
      "source": [
        "lista_nome_alunos.index(\"Han\")"
      ],
      "metadata": {
        "colab": {
          "base_uri": "https://localhost:8080/"
        },
        "id": "5KzWuKwyGT4W",
        "outputId": "4afb0cc3-3e28-49f5-bfdb-f3356b608395"
      },
      "execution_count": null,
      "outputs": [
        {
          "output_type": "execute_result",
          "data": {
            "text/plain": [
              "2"
            ]
          },
          "metadata": {},
          "execution_count": 38
        }
      ]
    },
    {
      "cell_type": "markdown",
      "source": [
        "Agora, basta passar esse índice para a lista de listas (que chamamos de \"planilha\"), pra acessarmos a linha correspondente ao Han:"
      ],
      "metadata": {
        "id": "NfkdsOuFGbya"
      }
    },
    {
      "cell_type": "code",
      "source": [
        "tabela_lida[2]"
      ],
      "metadata": {
        "colab": {
          "base_uri": "https://localhost:8080/"
        },
        "id": "B3Xp5rvYGaiS",
        "outputId": "062d2bcf-7e6a-464a-b7d3-c84ffc761e01"
      },
      "execution_count": null,
      "outputs": [
        {
          "output_type": "execute_result",
          "data": {
            "text/plain": [
              "['Han', '4', '7', '100']"
            ]
          },
          "metadata": {},
          "execution_count": 39
        }
      ]
    },
    {
      "cell_type": "code",
      "source": [
        "tabela_lida"
      ],
      "metadata": {
        "colab": {
          "base_uri": "https://localhost:8080/"
        },
        "id": "UUHsQIw3GgVw",
        "outputId": "3025d9ed-174f-4a11-c18d-c5d0ab45f7c3"
      },
      "execution_count": null,
      "outputs": [
        {
          "output_type": "execute_result",
          "data": {
            "text/plain": [
              "[['Aluno', 'Nota 1', 'Nota 2', ' Presença'],\n",
              " ['Luke', '7', '9', '75'],\n",
              " ['Han', '4', '7', '100'],\n",
              " ['Leia', '9', '9', '50']]"
            ]
          },
          "metadata": {},
          "execution_count": 40
        }
      ]
    },
    {
      "cell_type": "markdown",
      "source": [
        "Legal! Agora, sabemos que as posições de índice 1 e 2 **desta lista** são, respectivamente, a nota1 e a nota2!\n",
        "\n",
        "Ou seja, podemos capturar as notas (já as transformando para float!), e aí calcular a média!"
      ],
      "metadata": {
        "id": "zQo5aB3fGlGd"
      }
    },
    {
      "cell_type": "code",
      "source": [
        "aluno=\"Luke\"\n",
        "\n",
        "dados_aluno = tabela_lida[[linha[0] for linha in tabela_lida].index(aluno)]\n",
        "\n",
        "nota1 = float(dados_aluno[1])\n",
        "nota2 = float(dados_aluno[2])\n",
        "\n",
        "media = (nota1 + nota2)/2\n",
        "\n",
        "print(f\"A média do(a) aluno(a) {aluno} é: {media}\")"
      ],
      "metadata": {
        "colab": {
          "base_uri": "https://localhost:8080/"
        },
        "id": "B0txWUKUGn2y",
        "outputId": "93658e74-e785-46bd-8d4d-bdf4fafb49b7"
      },
      "execution_count": null,
      "outputs": [
        {
          "output_type": "stream",
          "name": "stdout",
          "text": [
            "A média do(a) aluno(a) Luke é: 8.0\n"
          ]
        }
      ]
    },
    {
      "cell_type": "markdown",
      "source": [
        "Vamos agora fazer todas as operações acima, mas solicitando ao usuário a média de qual aluno ele deseja:"
      ],
      "metadata": {
        "id": "kFrTPk_NGuEg"
      }
    },
    {
      "cell_type": "code",
      "source": [
        "# leitura do arquivo, na forma de tabela\n",
        "with open(\"alunos_star_wars.csv\", \"r\", encoding=\"utf-8\") as f:\n",
        "\n",
        "    tabela_lida = [linha for linha in csv.reader(f, delimiter=\",\", lineterminator=\"\\n\")]\n",
        "\n",
        "# processamento do arquivo\n",
        "nome_alunos = [linha[0] for linha in tabela_lida]\n",
        "\n",
        "aluno=input(f\"Digite o nome do aluno cuja média vc quer saber.\\nOpções: {nome_alunos[1:]} \")\n",
        "\n",
        "dados_aluno = tabela_lida[nome_alunos.index(aluno)]\n",
        "\n",
        "nota1 = float(dados_aluno[1])\n",
        "nota2 = float(dados_aluno[2])\n",
        "\n",
        "media = (nota1 + nota2)/2\n",
        "\n",
        "print(f\"\\nA média do(a) aluno(a) {aluno} é: {media}\")"
      ],
      "metadata": {
        "colab": {
          "base_uri": "https://localhost:8080/"
        },
        "id": "WH9cXDS_GroC",
        "outputId": "c2939fd5-53f4-4db1-815e-14ffb08b4162"
      },
      "execution_count": null,
      "outputs": [
        {
          "output_type": "stream",
          "name": "stdout",
          "text": [
            "Digite o nome do aluno cuja média vc quer saber.\n",
            "Opções: ['Luke', 'Han', 'Leia'] Leia\n",
            "\n",
            "A média do(a) aluno(a) Leia é: 9.0\n"
          ]
        }
      ]
    },
    {
      "cell_type": "markdown",
      "source": [
        "É possíver fazer o **processamento de arquivos** de forma muito mais simples e natural do que foi feito acima, ao utilizarmos uma biblioteca própria para isso: o [pandas](https://pandas.pydata.org/)! Vamos introduzi-la nas aulas seguintes!"
      ],
      "metadata": {
        "id": "bGcivJahG-at"
      }
    }
  ]
}