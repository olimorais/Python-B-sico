{
  "nbformat": 4,
  "nbformat_minor": 0,
  "metadata": {
    "colab": {
      "provenance": [],
      "toc_visible": true,
      "authorship_tag": "ABX9TyN0Vh8Zl+WpGqwy8eJxLPJE",
      "include_colab_link": true
    },
    "kernelspec": {
      "name": "python3",
      "display_name": "Python 3"
    },
    "language_info": {
      "name": "python"
    }
  },
  "cells": [
    {
      "cell_type": "markdown",
      "metadata": {
        "id": "view-in-github",
        "colab_type": "text"
      },
      "source": [
        "<a href=\"https://colab.research.google.com/github/olimorais/Python-B-sico/blob/main/Introducao_dados_com_python.ipynb\" target=\"_parent\"><img src=\"https://colab.research.google.com/assets/colab-badge.svg\" alt=\"Open In Colab\"/></a>"
      ]
    },
    {
      "cell_type": "markdown",
      "source": [
        "# Introdução ao Python\n"
      ],
      "metadata": {
        "id": "tOEoQPGO2AID"
      }
    },
    {
      "cell_type": "markdown",
      "source": [
        "Ferramentas e IDE's interessantes de se usar com o python:\n",
        "\n",
        "1.   Anaconda  - https://www.anaconda.com/\n",
        "2.   Jupyter   - https://jupyter.org/\n",
        "3.   Google Colab\n",
        "4.   Visual Studio\n",
        "\n",
        "As ferramentas 2 e 3 são bem parecidas, mas a número 2 pode ser utilizada offlineo enquanto o 3 precisa de acesso a internet para se usar e é integrado ao google drive. A ferramenta de número 4 é muito usada por programadores experientes.\n",
        "\n",
        "\n",
        "\n",
        "\n"
      ],
      "metadata": {
        "id": "8f1twWxS2Fnr"
      }
    },
    {
      "cell_type": "markdown",
      "source": [
        "# 1) Meu primeiro programa em Python:\n",
        "\n",
        "Tradicionalmente, o primeiro programa feito em qualquer linguagem de programação é exibir na tela a mensagem \"Hello, World!\".\n",
        "\n",
        "O python é uma das linguagens mais simples e objetivas para se começar a programar. Então vamos fazer nosso primeiro programa em python.\n",
        "\n",
        "Para isso, devemos utilizar a função *print()* e escrever o texto dentro dos parênteses."
      ],
      "metadata": {
        "id": "rC8k91r382zJ"
      }
    },
    {
      "cell_type": "code",
      "source": [
        "print('Hello, World!')"
      ],
      "metadata": {
        "colab": {
          "base_uri": "https://localhost:8080/"
        },
        "id": "IAExkooN-AsX",
        "outputId": "fdc5197c-135d-4b66-d3a9-d7aabc2f1f56"
      },
      "execution_count": null,
      "outputs": [
        {
          "output_type": "stream",
          "name": "stdout",
          "text": [
            "Hello, World!\n"
          ]
        }
      ]
    },
    {
      "cell_type": "markdown",
      "source": [
        "Em python, podemos usar aspas simples ('...') ou aspas duplas (\"...\") para escrever textos.\n",
        "\n",
        "Os **comandos** são **executados na ordem em que aparecem!** E os resultados também são exibidos na ordem.\n",
        "\n",
        "Para dar algum tipo de prioridade, é necessário usar parênteses (), principalmente em operações matemáticas!"
      ],
      "metadata": {
        "id": "4ld6C_s4-Qzi"
      }
    },
    {
      "cell_type": "markdown",
      "source": [
        "# 2) Variáveis\n",
        "\n",
        "As **variáveis** são usadas para **armazenar ou guardar** alguma **informação ou valor** imporante do nosso algoritmo.\n",
        "\n",
        "Uma variável pode ter qualquer nome, mas temos algumas regras:\n",
        "\n",
        "\n",
        "*   O python diferencia letras maiúsculas e minúsculas, o ideal é escrever a variável toda em letras minúsculas.\n",
        "*   O nome da variável não pode ter espaços, use o underline se o nome for extenso. Por exemplo: \"minha_variavel\"\n",
        "\n",
        "*   É  melhor que o nome da variável não tenha caracteres especiais, como acentuação e ç.\n",
        "*   Existem palavras reservadas em python, então, elas não podem ser usadas para serem nome de variáveis.\n",
        "\n",
        "*   Dica geral: o nome da variável fica preto no python, se ela ficar colorida, quer dizer, que é uma palavra reservada e que não pode ser usada.\n",
        "\n",
        "\n",
        "**Criando variáveis:**\n",
        "\n",
        "Agora, vamos criar três variáveis para armazenar valores de cálculos numéricos.\n",
        "\n",
        "**Importante: o sinal \"=\" é lido como \"recebe\", pois o que estamos fazendo é guardar o valor da operação no pedaçinho de memória da variável.**\n",
        "\n",
        "Então vamos colocar a mão na massa e criar essas variáveis!\n",
        "\n",
        "\n"
      ],
      "metadata": {
        "id": "epMRUHlj_tuE"
      }
    },
    {
      "cell_type": "code",
      "source": [
        "minha_variavel = 2+2\n",
        "x = 10-5\n",
        "y = 10/2\n",
        "aux = 10*10"
      ],
      "metadata": {
        "id": "6NTlQI4HDWFI"
      },
      "execution_count": null,
      "outputs": []
    },
    {
      "cell_type": "markdown",
      "source": [
        "Note que não há nenhuma output (saída) de dados!\n",
        "\n",
        "Há 2 modos para inspecionar ou observar o valor da variável que fizemos. Podemos somente \"chamar\" a variável criada ou dar \"print(variavel)\"."
      ],
      "metadata": {
        "id": "czdIT6LpDlu2"
      }
    },
    {
      "cell_type": "code",
      "source": [
        "minha_variavel\n"
      ],
      "metadata": {
        "colab": {
          "base_uri": "https://localhost:8080/"
        },
        "id": "ckqVt3x6Ea-N",
        "outputId": "ead2b80c-4818-44dd-ab96-1ed130d3cf7a"
      },
      "execution_count": null,
      "outputs": [
        {
          "output_type": "execute_result",
          "data": {
            "text/plain": [
              "4"
            ]
          },
          "metadata": {},
          "execution_count": 4
        }
      ]
    },
    {
      "cell_type": "code",
      "source": [
        "print(minha_variavel)"
      ],
      "metadata": {
        "colab": {
          "base_uri": "https://localhost:8080/"
        },
        "id": "HKwEkceWEjoq",
        "outputId": "fac808e0-ef82-48d9-a6c1-51d269234988"
      },
      "execution_count": null,
      "outputs": [
        {
          "output_type": "stream",
          "name": "stdout",
          "text": [
            "4\n"
          ]
        }
      ]
    },
    {
      "cell_type": "markdown",
      "source": [
        "Atenção! As variáveis podem variar, ou seja, se você usar o mesmo nome de variável você sobreescreve em cima do valor antigo."
      ],
      "metadata": {
        "id": "CSMlGfBgFBhX"
      }
    },
    {
      "cell_type": "code",
      "source": [
        "minha_variavel = 43\n",
        "print(minha_variavel)"
      ],
      "metadata": {
        "colab": {
          "base_uri": "https://localhost:8080/"
        },
        "id": "7QSR8qeFFTIc",
        "outputId": "1a87162e-ae76-4096-e6ab-c1598a54c77e"
      },
      "execution_count": null,
      "outputs": [
        {
          "output_type": "stream",
          "name": "stdout",
          "text": [
            "43\n"
          ]
        }
      ]
    },
    {
      "cell_type": "markdown",
      "source": [
        "Note que, na \"minha_variavel\" existe um novo valor (43) que sobreescrveu o valor antigo (4). Então, muita atenção, pois você pode perder algum valor ou informação importante."
      ],
      "metadata": {
        "id": "qnP1XvJuFZLI"
      }
    }
  ]
}